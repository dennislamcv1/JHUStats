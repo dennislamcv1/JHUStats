{
 "cells": [
  {
   "cell_type": "code",
   "execution_count": 1,
   "metadata": {},
   "outputs": [],
   "source": [
    "import numpy as np\n",
    "import pandas as pd\n",
    "import spacy\n",
    "import random\n",
    "import re\n",
    "from spacy.lang.en.stop_words import STOP_WORDS as stopwords\n",
    "\n",
    "\n",
    "random.seed(0)\n",
    "\n",
    "pd.set_option('display.width', 1000)\n",
    "pd.set_option('display.max_colwidth', 1000)"
   ]
  },
  {
   "cell_type": "code",
   "execution_count": 2,
   "metadata": {},
   "outputs": [],
   "source": [
    "nlp = spacy.load('en_core_web_sm')"
   ]
  },
  {
   "cell_type": "code",
   "execution_count": 3,
   "metadata": {},
   "outputs": [],
   "source": [
    "df = pd.read_csv('en_US.blogs.txt', sep=\"\\t\", header=None, names=[\"words\"])"
   ]
  },
  {
   "cell_type": "code",
   "execution_count": 4,
   "metadata": {},
   "outputs": [
    {
     "data": {
      "text/html": [
       "<div>\n",
       "<style scoped>\n",
       "    .dataframe tbody tr th:only-of-type {\n",
       "        vertical-align: middle;\n",
       "    }\n",
       "\n",
       "    .dataframe tbody tr th {\n",
       "        vertical-align: top;\n",
       "    }\n",
       "\n",
       "    .dataframe thead th {\n",
       "        text-align: right;\n",
       "    }\n",
       "</style>\n",
       "<table border=\"1\" class=\"dataframe\">\n",
       "  <thead>\n",
       "    <tr style=\"text-align: right;\">\n",
       "      <th></th>\n",
       "      <th>words</th>\n",
       "    </tr>\n",
       "  </thead>\n",
       "  <tbody>\n",
       "    <tr>\n",
       "      <th>0</th>\n",
       "      <td>In the years thereafter, most of the Oil fields and platforms were named after pagan “gods”.</td>\n",
       "    </tr>\n",
       "    <tr>\n",
       "      <th>1</th>\n",
       "      <td>We love you Mr. Brown.</td>\n",
       "    </tr>\n",
       "    <tr>\n",
       "      <th>2</th>\n",
       "      <td>Chad has been awesome with the kids and holding down the fort while I work later than usual! The kids have been busy together playing Skylander on the XBox together, after Kyan cashed in his $$$ from his piggy bank. He wanted that game so bad and used his gift card from his birthday he has been saving and the money to get it (he never taps into that thing either, that is how we know he wanted it so bad). We made him count all of his money to make sure that he had enough! It was very cute to watch his reaction when he realized he did! He also does a very good job of letting Lola feel like she is playing too, by letting her switch out the characters! She loves it almost as much as him.</td>\n",
       "    </tr>\n",
       "    <tr>\n",
       "      <th>3</th>\n",
       "      <td>so anyways, i am going to share some home decor inspiration that i have been storing in my folder on the puter. i have all these amazing images stored away ready to come to life when we get our home.</td>\n",
       "    </tr>\n",
       "    <tr>\n",
       "      <th>4</th>\n",
       "      <td>With graduation season right around the corner, Nancy has whipped up a fun set to help you out with not only your graduation cards and gifts, but any occasion that brings on a change in one's life. I stamped the images in Memento Tuxedo Black and cut them out with circle Nestabilities. I embossed the kraft and red cardstock with TE's new Stars Impressions Plate, which is double sided and gives you 2 fantastic patterns. You can see how to use the Impressions Plates in this tutorial Taylor created. Just one pass through your die cut machine using the Embossing Pad Kit is all you need to do - super easy!</td>\n",
       "    </tr>\n",
       "    <tr>\n",
       "      <th>...</th>\n",
       "      <td>...</td>\n",
       "    </tr>\n",
       "    <tr>\n",
       "      <th>878607</th>\n",
       "      <td>The hulking mass of unfinished brick and concrete at 20-13 35th St. is so unsightly, it became a poster child for zoning reform.</td>\n",
       "    </tr>\n",
       "    <tr>\n",
       "      <th>878608</th>\n",
       "      <td>The 2004 IIFA award ceremony witnessed a contingent of over 450 stars, celebrities, cricketers, industrialists and government leaders over the festive weekend.</td>\n",
       "    </tr>\n",
       "    <tr>\n",
       "      <th>878609</th>\n",
       "      <td>Plus, I have also been allowing myself not to get ‘stressed’ over things that have not been done! If the ironing is not done right now, it’s not the end of the world! If that phone call is made tomorrow rather than today, then that’s OK too! Living in the moment and allowing myself the time to get ‘back to feeling great’!</td>\n",
       "    </tr>\n",
       "    <tr>\n",
       "      <th>878610</th>\n",
       "      <td>(5) What's the barrier to entry and why is the business sustainable?</td>\n",
       "    </tr>\n",
       "    <tr>\n",
       "      <th>878611</th>\n",
       "      <td>In response to an over-whelming number of comments we sat down and created a list of do (s) and don’t (s) – these recommendations are easy to follow and except for - adding some herbs to your rinse . So let’s get begin…</td>\n",
       "    </tr>\n",
       "  </tbody>\n",
       "</table>\n",
       "<p>878612 rows × 1 columns</p>\n",
       "</div>"
      ],
      "text/plain": [
       "                                                                                                                                                                                                                                                                                                                                                                                                                                                                                                                                                                                                                                                                                                                       words\n",
       "0                                                                                                                                                                                                                                                                                                                                                                                                                                                                                                                                                                                                                               In the years thereafter, most of the Oil fields and platforms were named after pagan “gods”.\n",
       "1                                                                                                                                                                                                                                                                                                                                                                                                                                                                                                                                                                                                                                                                                                     We love you Mr. Brown.\n",
       "2       Chad has been awesome with the kids and holding down the fort while I work later than usual! The kids have been busy together playing Skylander on the XBox together, after Kyan cashed in his $$$ from his piggy bank. He wanted that game so bad and used his gift card from his birthday he has been saving and the money to get it (he never taps into that thing either, that is how we know he wanted it so bad). We made him count all of his money to make sure that he had enough! It was very cute to watch his reaction when he realized he did! He also does a very good job of letting Lola feel like she is playing too, by letting her switch out the characters! She loves it almost as much as him.\n",
       "3                                                                                                                                                                                                                                                                                                                                                                                                                                                                                                                    so anyways, i am going to share some home decor inspiration that i have been storing in my folder on the puter. i have all these amazing images stored away ready to come to life when we get our home.\n",
       "4                                                                                           With graduation season right around the corner, Nancy has whipped up a fun set to help you out with not only your graduation cards and gifts, but any occasion that brings on a change in one's life. I stamped the images in Memento Tuxedo Black and cut them out with circle Nestabilities. I embossed the kraft and red cardstock with TE's new Stars Impressions Plate, which is double sided and gives you 2 fantastic patterns. You can see how to use the Impressions Plates in this tutorial Taylor created. Just one pass through your die cut machine using the Embossing Pad Kit is all you need to do - super easy!\n",
       "...                                                                                                                                                                                                                                                                                                                                                                                                                                                                                                                                                                                                                                                                                                                      ...\n",
       "878607                                                                                                                                                                                                                                                                                                                                                                                                                                                                                                                                                                                      The hulking mass of unfinished brick and concrete at 20-13 35th St. is so unsightly, it became a poster child for zoning reform.\n",
       "878608                                                                                                                                                                                                                                                                                                                                                                                                                                                                                                                                                       The 2004 IIFA award ceremony witnessed a contingent of over 450 stars, celebrities, cricketers, industrialists and government leaders over the festive weekend.\n",
       "878609                                                                                                                                                                                                                                                                                                                                                                                   Plus, I have also been allowing myself not to get ‘stressed’ over things that have not been done! If the ironing is not done right now, it’s not the end of the world! If that phone call is made tomorrow rather than today, then that’s OK too! Living in the moment and allowing myself the time to get ‘back to feeling great’!\n",
       "878610                                                                                                                                                                                                                                                                                                                                                                                                                                                                                                                                                                                                                                                  (5) What's the barrier to entry and why is the business sustainable?\n",
       "878611                                                                                                                                                                                                                                                                                                                                                                                                                                                                                           In response to an over-whelming number of comments we sat down and created a list of do (s) and don’t (s) – these recommendations are easy to follow and except for - adding some herbs to your rinse . So let’s get begin…\n",
       "\n",
       "[878612 rows x 1 columns]"
      ]
     },
     "execution_count": 4,
     "metadata": {},
     "output_type": "execute_result"
    }
   ],
   "source": [
    "df"
   ]
  },
  {
   "cell_type": "code",
   "execution_count": 5,
   "metadata": {},
   "outputs": [
    {
     "data": {
      "text/plain": [
       "(878612, 1)"
      ]
     },
     "execution_count": 5,
     "metadata": {},
     "output_type": "execute_result"
    }
   ],
   "source": [
    "df.shape"
   ]
  },
  {
   "cell_type": "code",
   "execution_count": 6,
   "metadata": {},
   "outputs": [
    {
     "name": "stdout",
     "output_type": "stream",
     "text": [
      "<class 'pandas.core.frame.DataFrame'>\n",
      "RangeIndex: 878612 entries, 0 to 878611\n",
      "Data columns (total 1 columns):\n",
      " #   Column  Non-Null Count   Dtype \n",
      "---  ------  --------------   ----- \n",
      " 0   words   878612 non-null  object\n",
      "dtypes: object(1)\n",
      "memory usage: 6.7+ MB\n"
     ]
    }
   ],
   "source": [
    "df.info()"
   ]
  },
  {
   "cell_type": "code",
   "execution_count": 7,
   "metadata": {},
   "outputs": [
    {
     "data": {
      "text/html": [
       "<div>\n",
       "<style scoped>\n",
       "    .dataframe tbody tr th:only-of-type {\n",
       "        vertical-align: middle;\n",
       "    }\n",
       "\n",
       "    .dataframe tbody tr th {\n",
       "        vertical-align: top;\n",
       "    }\n",
       "\n",
       "    .dataframe thead th {\n",
       "        text-align: right;\n",
       "    }\n",
       "</style>\n",
       "<table border=\"1\" class=\"dataframe\">\n",
       "  <thead>\n",
       "    <tr style=\"text-align: right;\">\n",
       "      <th></th>\n",
       "      <th>words</th>\n",
       "    </tr>\n",
       "  </thead>\n",
       "  <tbody>\n",
       "    <tr>\n",
       "      <th>337850</th>\n",
       "      <td>We have given our hearts away, a sordid boon !”</td>\n",
       "    </tr>\n",
       "    <tr>\n",
       "      <th>611929</th>\n",
       "      <td>1. Start it on the side</td>\n",
       "    </tr>\n",
       "    <tr>\n",
       "      <th>668026</th>\n",
       "      <td>Sugar’s sweet, so is she,</td>\n",
       "    </tr>\n",
       "    <tr>\n",
       "      <th>462003</th>\n",
       "      <td>So because the Asian community was so by need tight-knit, the next thing you know I have Asian kids following me around, you know doing more shit for me than the boys that wanted inside of me. Especially the two in particular. They thought I was “so wonderful” which sickened me even further. I was not wonderful, it reminds me of that quote, from WWII era forget it but goes on to say something like, “It was not that I was a hero, it was everyone around me was acting so badly” when someone won a humanitarian award.</td>\n",
       "    </tr>\n",
       "    <tr>\n",
       "      <th>736471</th>\n",
       "      <td>Nicholas’ brain runs on and is excellent at processing data and concrete facts. He works best with things he can quantify. He runs into an almost insurmountable challenge in trying to rationalize the existence of his exceptional infant daughter and what she represents. He isn’t without a sense of humor and is very loving but he is forced to radically confront his limitations.</td>\n",
       "    </tr>\n",
       "    <tr>\n",
       "      <th>...</th>\n",
       "      <td>...</td>\n",
       "    </tr>\n",
       "    <tr>\n",
       "      <th>322309</th>\n",
       "      <td>Perfect timing for Friday Fragments! I have a jumble of things to unload. For more jumbled thoughts from other fabulous bloggers go visit Mrs. 4444s.</td>\n",
       "    </tr>\n",
       "    <tr>\n",
       "      <th>551298</th>\n",
       "      <td>Herbert paid his debt to society by twiddling away the days in solitary confinement. Herbert’s personally prohibited him from becoming familiar with the inmates he was stranded with. Being friends with anyone wasn’t an option. It became a well-know fact that he couldn’t get along with others, especially in confined places. Whenever he was in the general population, he pursued fights on a daily basis. Arguments were his passion and ”asshole” soon became his middle name. Not even the meanest of the mean would mess with Herbert. The years put a definition of anger in the creases of his drawn face. The look of a psychopath was naturally etched into his smile. Inmates made it a point to stay away from Herbert whenever he wasn’t being kept in solitude. However, when he was alone, away from all other prisoners, Herbert was the perfect inmate. The guards had no problems with him. They came to the understanding that Herbert caused fight in order to stay out of general population. “Clooney, ...</td>\n",
       "    </tr>\n",
       "    <tr>\n",
       "      <th>458063</th>\n",
       "      <td>20. A Warning From The Sun</td>\n",
       "    </tr>\n",
       "    <tr>\n",
       "      <th>829060</th>\n",
       "      <td>Sherry and John from Young House Love are teaming up with Katie from Bower Power to host their winter edition of The Pinterest Challenge to get people to stop pinning and start doing. (Not affiliated with the Pinterest company.) The rules? You just find something from Pinterest that inspires you and create your own version. Then join Young House Love for a big Pinterest Challenge linky party on Wednesday, March 14th. Sounds fun, right? I'm joining the challenge with my sofa table makeover.</td>\n",
       "    </tr>\n",
       "    <tr>\n",
       "      <th>753194</th>\n",
       "      <td>BE CAREFUL NOT TO INCLUDE SPOILERS! (make sure that what you share doesn’t give too much away! You don’t want to ruin the book for others!)</td>\n",
       "    </tr>\n",
       "  </tbody>\n",
       "</table>\n",
       "<p>10000 rows × 1 columns</p>\n",
       "</div>"
      ],
      "text/plain": [
       "                                                                                                                                                                                                                                                                                                                                                                                                                                                                                                                                                                                                                                                                                                                                                                                                                                                                                                                                                                                                                                          words\n",
       "337850                                                                                                                                                                                                                                                                                                                                                                                                                                                                                                                                                                                                                                                                                                                                                                                                                                                                                                                                                                                          We have given our hearts away, a sordid boon !”\n",
       "611929                                                                                                                                                                                                                                                                                                                                                                                                                                                                                                                                                                                                                                                                                                                                                                                                                                                                                                                                                                                                                  1. Start it on the side\n",
       "668026                                                                                                                                                                                                                                                                                                                                                                                                                                                                                                                                                                                                                                                                                                                                                                                                                                                                                                                                                                                                                Sugar’s sweet, so is she,\n",
       "462003                                                                                                                                                                                                                                                                                                                                                                                                                                                                                                   So because the Asian community was so by need tight-knit, the next thing you know I have Asian kids following me around, you know doing more shit for me than the boys that wanted inside of me. Especially the two in particular. They thought I was “so wonderful” which sickened me even further. I was not wonderful, it reminds me of that quote, from WWII era forget it but goes on to say something like, “It was not that I was a hero, it was everyone around me was acting so badly” when someone won a humanitarian award.\n",
       "736471                                                                                                                                                                                                                                                                                                                                                                                                                                                                                                                                                                                                                                               Nicholas’ brain runs on and is excellent at processing data and concrete facts. He works best with things he can quantify. He runs into an almost insurmountable challenge in trying to rationalize the existence of his exceptional infant daughter and what she represents. He isn’t without a sense of humor and is very loving but he is forced to radically confront his limitations.\n",
       "...                                                                                                                                                                                                                                                                                                                                                                                                                                                                                                                                                                                                                                                                                                                                                                                                                                                                                                                                                                                                                                         ...\n",
       "322309                                                                                                                                                                                                                                                                                                                                                                                                                                                                                                                                                                                                                                                                                                                                                                                                                                                                                    Perfect timing for Friday Fragments! I have a jumble of things to unload. For more jumbled thoughts from other fabulous bloggers go visit Mrs. 4444s.\n",
       "551298  Herbert paid his debt to society by twiddling away the days in solitary confinement. Herbert’s personally prohibited him from becoming familiar with the inmates he was stranded with. Being friends with anyone wasn’t an option. It became a well-know fact that he couldn’t get along with others, especially in confined places. Whenever he was in the general population, he pursued fights on a daily basis. Arguments were his passion and ”asshole” soon became his middle name. Not even the meanest of the mean would mess with Herbert. The years put a definition of anger in the creases of his drawn face. The look of a psychopath was naturally etched into his smile. Inmates made it a point to stay away from Herbert whenever he wasn’t being kept in solitude. However, when he was alone, away from all other prisoners, Herbert was the perfect inmate. The guards had no problems with him. They came to the understanding that Herbert caused fight in order to stay out of general population. “Clooney, ...\n",
       "458063                                                                                                                                                                                                                                                                                                                                                                                                                                                                                                                                                                                                                                                                                                                                                                                                                                                                                                                                                                                                               20. A Warning From The Sun\n",
       "829060                                                                                                                                                                                                                                                                                                                                                                                                                                                                                                                           Sherry and John from Young House Love are teaming up with Katie from Bower Power to host their winter edition of The Pinterest Challenge to get people to stop pinning and start doing. (Not affiliated with the Pinterest company.) The rules? You just find something from Pinterest that inspires you and create your own version. Then join Young House Love for a big Pinterest Challenge linky party on Wednesday, March 14th. Sounds fun, right? I'm joining the challenge with my sofa table makeover.\n",
       "753194                                                                                                                                                                                                                                                                                                                                                                                                                                                                                                                                                                                                                                                                                                                                                                                                                                                                                              BE CAREFUL NOT TO INCLUDE SPOILERS! (make sure that what you share doesn’t give too much away! You don’t want to ruin the book for others!)\n",
       "\n",
       "[10000 rows x 1 columns]"
      ]
     },
     "execution_count": 7,
     "metadata": {},
     "output_type": "execute_result"
    }
   ],
   "source": [
    "df2 = df.sample(n=10000,random_state=0)\n",
    "df2"
   ]
  },
  {
   "cell_type": "code",
   "execution_count": 8,
   "metadata": {},
   "outputs": [
    {
     "name": "stdout",
     "output_type": "stream",
     "text": [
      "<class 'pandas.core.frame.DataFrame'>\n",
      "Int64Index: 10000 entries, 337850 to 753194\n",
      "Data columns (total 1 columns):\n",
      " #   Column  Non-Null Count  Dtype \n",
      "---  ------  --------------  ----- \n",
      " 0   words   10000 non-null  object\n",
      "dtypes: object(1)\n",
      "memory usage: 156.2+ KB\n"
     ]
    }
   ],
   "source": [
    "df2.info()"
   ]
  },
  {
   "cell_type": "code",
   "execution_count": 9,
   "metadata": {},
   "outputs": [
    {
     "data": {
      "text/plain": [
       "words    We have given our hearts away, a sordid boon !”\n",
       "Name: 337850, dtype: object"
      ]
     },
     "execution_count": 9,
     "metadata": {},
     "output_type": "execute_result"
    }
   ],
   "source": [
    "df2.iloc[0]"
   ]
  },
  {
   "cell_type": "code",
   "execution_count": 10,
   "metadata": {},
   "outputs": [],
   "source": [
    "df2.reset_index(inplace=True, drop=True)"
   ]
  },
  {
   "cell_type": "code",
   "execution_count": 11,
   "metadata": {},
   "outputs": [],
   "source": [
    "df2.to_csv(\"sample.csv\", index=False)"
   ]
  },
  {
   "cell_type": "code",
   "execution_count": 13,
   "metadata": {},
   "outputs": [],
   "source": [
    "test = df2.iloc[0]"
   ]
  },
  {
   "cell_type": "code",
   "execution_count": 14,
   "metadata": {},
   "outputs": [
    {
     "data": {
      "text/plain": [
       "words    We have given our hearts away, a sordid boon !”\n",
       "Name: 337850, dtype: object"
      ]
     },
     "execution_count": 14,
     "metadata": {},
     "output_type": "execute_result"
    }
   ],
   "source": [
    "test"
   ]
  },
  {
   "cell_type": "code",
   "execution_count": 15,
   "metadata": {},
   "outputs": [],
   "source": [
    "test = test[0]"
   ]
  },
  {
   "cell_type": "code",
   "execution_count": 16,
   "metadata": {},
   "outputs": [
    {
     "data": {
      "text/plain": [
       "'We have given our hearts away, a sordid boon !”'"
      ]
     },
     "execution_count": 16,
     "metadata": {},
     "output_type": "execute_result"
    }
   ],
   "source": [
    "test"
   ]
  },
  {
   "cell_type": "code",
   "execution_count": null,
   "metadata": {},
   "outputs": [],
   "source": []
  },
  {
   "cell_type": "code",
   "execution_count": 17,
   "metadata": {},
   "outputs": [
    {
     "data": {
      "text/plain": [
       "words    0\n",
       "dtype: int64"
      ]
     },
     "execution_count": 17,
     "metadata": {},
     "output_type": "execute_result"
    }
   ],
   "source": [
    "df2.isnull().sum()"
   ]
  },
  {
   "cell_type": "code",
   "execution_count": 18,
   "metadata": {},
   "outputs": [
    {
     "data": {
      "text/plain": [
       "counting it an honor if they were made a spectacle to the world, to angels and men;                                                                                                                                                                                                                                                                                                                                                                                                                                                                                                                                                                                                                                                          1\n",
       "It took us three attempts over the last few years to come and visit this city. It was worth the effort. Anywhere you go, magnificently designed buildings are in your view. Entry into the public buildings provides fantastically designed interiors with the figurines, wall murals, columns, staircases, and materials used to finish the floors, walls, and ceilings.                                                                                                                                                                                                                                                                                                                                                                    1\n",
       "congrats! Can i take a chance for this supercady? I have put a link on my blog afcourse, how excited!                                                                                                                                                                                                                                                                                                                                                                                                                                                                                                                                                                                                                                        1\n",
       "Mischief will NOT represent novels that are random short stories, general fiction with no erotic content, sex scenes involving under 18 year old, acts causing physical damage, tragedy or anguish, incest, sex with animals or bondage.                                                                                                                                                                                                                                                                                                                                                                                                                                                                                                     1\n",
       "16. No. 16 In G Minor 1:27                                                                                                                                                                                                                                                                                                                                                                                                                                                                                                                                                                                                                                                                                                                   1\n",
       "                                                                                                                                                                                                                                                                                                                                                                                                                                                                                                                                                                                                                                                                                                                                            ..\n",
       "“The thing about the word ‘broken’ is it implies that it is ruined. Or that, even if it can be put back together, it will never look presentable. Like if you break a ceramic plate into a million little pieces and you glue every single one back together, no one would want to hang that plate on the wall. But did you know that when you put a piece of ceramic stone in the kiln, the heat automatically creates millions of litte cracks…that were meant to be there? So the stone ends up being cracked…but in a beautiful way. People end up paying thousands of dollars for what appears to be a cracked piece of stone. So maybe we’re just not broken, but just beautifully cracked. And that’s the way it was meant to be.”    1\n",
       "16 For God so loved the world, that He gave His Only Begotten Son, that whosoever helieveth in Him should not perish, but have everlasting life.                                                                                                                                                                                                                                                                                                                                                                                                                                                                                                                                                                                             1\n",
       "A rollicking good time appeared to be had by all (at least from where I was sitting), plenty of money was raised for the SOS Helpline and no-one got hurt (except, perhaps, for the collective dignity and pride of the French nation, so insistent were the parries and thrusts from those of us who make a buck poking fun at or otherwise highlighting the apparent absurdity of some of their quirkier habits).                                                                                                                                                                                                                                                                                                                          1\n",
       "But as a friend said, I have a perscription to be lazy! I'm recovering nicely, thank you all for the concering emails.                                                                                                                                                                                                                                                                                                                                                                                                                                                                                                                                                                                                                       1\n",
       "Stemware - Made in France purchased in Santa Fe, NM                                                                                                                                                                                                                                                                                                                                                                                                                                                                                                                                                                                                                                                                                          1\n",
       "Name: words, Length: 10000, dtype: int64"
      ]
     },
     "execution_count": 18,
     "metadata": {},
     "output_type": "execute_result"
    }
   ],
   "source": [
    "df2.words.value_counts()"
   ]
  },
  {
   "cell_type": "code",
   "execution_count": 12,
   "metadata": {},
   "outputs": [
    {
     "data": {
      "text/plain": [
       "0          16\n",
       "1           5\n",
       "2         140\n",
       "3          40\n",
       "4         111\n",
       "         ... \n",
       "878607     23\n",
       "878608     22\n",
       "878609     62\n",
       "878610     12\n",
       "878611     43\n",
       "Name: words, Length: 878612, dtype: int64"
      ]
     },
     "execution_count": 12,
     "metadata": {},
     "output_type": "execute_result"
    }
   ],
   "source": [
    "# Word Counts\n",
    "df[\"words\"].apply(lambda x: len(str(x).split()))"
   ]
  },
  {
   "cell_type": "code",
   "execution_count": 13,
   "metadata": {},
   "outputs": [
    {
     "data": {
      "text/plain": [
       "0          92\n",
       "1          22\n",
       "2         692\n",
       "3         199\n",
       "4         608\n",
       "         ... \n",
       "878607    128\n",
       "878608    159\n",
       "878609    323\n",
       "878610     68\n",
       "878611    219\n",
       "Name: words, Length: 878612, dtype: int64"
      ]
     },
     "execution_count": 13,
     "metadata": {},
     "output_type": "execute_result"
    }
   ],
   "source": [
    "# Characters count\n",
    "df[\"words\"].apply(lambda x: len(x))"
   ]
  },
  {
   "cell_type": "code",
   "execution_count": 19,
   "metadata": {},
   "outputs": [],
   "source": [
    "#Lowercase conversion\n",
    "df2[\"words\"] = df2[\"words\"].apply(lambda x: str(x).lower())"
   ]
  },
  {
   "cell_type": "code",
   "execution_count": 20,
   "metadata": {},
   "outputs": [
    {
     "data": {
      "text/html": [
       "<div>\n",
       "<style scoped>\n",
       "    .dataframe tbody tr th:only-of-type {\n",
       "        vertical-align: middle;\n",
       "    }\n",
       "\n",
       "    .dataframe tbody tr th {\n",
       "        vertical-align: top;\n",
       "    }\n",
       "\n",
       "    .dataframe thead th {\n",
       "        text-align: right;\n",
       "    }\n",
       "</style>\n",
       "<table border=\"1\" class=\"dataframe\">\n",
       "  <thead>\n",
       "    <tr style=\"text-align: right;\">\n",
       "      <th></th>\n",
       "      <th>words</th>\n",
       "    </tr>\n",
       "  </thead>\n",
       "  <tbody>\n",
       "    <tr>\n",
       "      <th>337850</th>\n",
       "      <td>we have given our hearts away, a sordid boon !”</td>\n",
       "    </tr>\n",
       "    <tr>\n",
       "      <th>611929</th>\n",
       "      <td>1. start it on the side</td>\n",
       "    </tr>\n",
       "    <tr>\n",
       "      <th>668026</th>\n",
       "      <td>sugar’s sweet, so is she,</td>\n",
       "    </tr>\n",
       "    <tr>\n",
       "      <th>462003</th>\n",
       "      <td>so because the asian community was so by need tight-knit, the next thing you know i have asian kids following me around, you know doing more shit for me than the boys that wanted inside of me. especially the two in particular. they thought i was “so wonderful” which sickened me even further. i was not wonderful, it reminds me of that quote, from wwii era forget it but goes on to say something like, “it was not that i was a hero, it was everyone around me was acting so badly” when someone won a humanitarian award.</td>\n",
       "    </tr>\n",
       "    <tr>\n",
       "      <th>736471</th>\n",
       "      <td>nicholas’ brain runs on and is excellent at processing data and concrete facts. he works best with things he can quantify. he runs into an almost insurmountable challenge in trying to rationalize the existence of his exceptional infant daughter and what she represents. he isn’t without a sense of humor and is very loving but he is forced to radically confront his limitations.</td>\n",
       "    </tr>\n",
       "  </tbody>\n",
       "</table>\n",
       "</div>"
      ],
      "text/plain": [
       "                                                                                                                                                                                                                                                                                                                                                                                                                                                                                                                                         words\n",
       "337850                                                                                                                                                                                                                                                                                                                                                                                                                                                                                         we have given our hearts away, a sordid boon !”\n",
       "611929                                                                                                                                                                                                                                                                                                                                                                                                                                                                                                                 1. start it on the side\n",
       "668026                                                                                                                                                                                                                                                                                                                                                                                                                                                                                                               sugar’s sweet, so is she,\n",
       "462003  so because the asian community was so by need tight-knit, the next thing you know i have asian kids following me around, you know doing more shit for me than the boys that wanted inside of me. especially the two in particular. they thought i was “so wonderful” which sickened me even further. i was not wonderful, it reminds me of that quote, from wwii era forget it but goes on to say something like, “it was not that i was a hero, it was everyone around me was acting so badly” when someone won a humanitarian award.\n",
       "736471                                                                                                                                              nicholas’ brain runs on and is excellent at processing data and concrete facts. he works best with things he can quantify. he runs into an almost insurmountable challenge in trying to rationalize the existence of his exceptional infant daughter and what she represents. he isn’t without a sense of humor and is very loving but he is forced to radically confront his limitations."
      ]
     },
     "execution_count": 20,
     "metadata": {},
     "output_type": "execute_result"
    }
   ],
   "source": [
    "df2.head()"
   ]
  },
  {
   "cell_type": "code",
   "execution_count": null,
   "metadata": {},
   "outputs": [],
   "source": []
  }
 ],
 "metadata": {
  "kernelspec": {
   "display_name": "Python 3",
   "language": "python",
   "name": "python3"
  },
  "language_info": {
   "codemirror_mode": {
    "name": "ipython",
    "version": 3
   },
   "file_extension": ".py",
   "mimetype": "text/x-python",
   "name": "python",
   "nbconvert_exporter": "python",
   "pygments_lexer": "ipython3",
   "version": "3.8.5"
  }
 },
 "nbformat": 4,
 "nbformat_minor": 4
}
