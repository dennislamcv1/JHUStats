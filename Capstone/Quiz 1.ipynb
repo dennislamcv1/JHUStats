{
 "cells": [
  {
   "cell_type": "code",
   "execution_count": 1,
   "metadata": {},
   "outputs": [],
   "source": [
    "import pandas as pd\n",
    "import os\n",
    "import spacy\n",
    "from spacy.lang.en.stop_words import STOP_WORDS as stopwords\n",
    "\n",
    "pd.set_option('display.width', 1000)\n",
    "pd.set_option('display.max_colwidth', 1000)"
   ]
  },
  {
   "cell_type": "code",
   "execution_count": 2,
   "metadata": {},
   "outputs": [],
   "source": [
    "blogs = pd.read_csv('en_US.blogs.txt', sep=\"\\t\", header=None, names=[\"words\"])"
   ]
  },
  {
   "cell_type": "code",
   "execution_count": 3,
   "metadata": {},
   "outputs": [],
   "source": [
    "news = pd.read_csv('en_US.news.txt', sep=\"\\t\", header=None, names=[\"words\"])"
   ]
  },
  {
   "cell_type": "code",
   "execution_count": 4,
   "metadata": {},
   "outputs": [],
   "source": [
    "twitter = pd.read_csv('en_US.twitter.txt', sep=\"\\t\", header=None, names=[\"words\"])"
   ]
  },
  {
   "cell_type": "code",
   "execution_count": 5,
   "metadata": {},
   "outputs": [
    {
     "data": {
      "text/html": [
       "<div>\n",
       "<style scoped>\n",
       "    .dataframe tbody tr th:only-of-type {\n",
       "        vertical-align: middle;\n",
       "    }\n",
       "\n",
       "    .dataframe tbody tr th {\n",
       "        vertical-align: top;\n",
       "    }\n",
       "\n",
       "    .dataframe thead th {\n",
       "        text-align: right;\n",
       "    }\n",
       "</style>\n",
       "<table border=\"1\" class=\"dataframe\">\n",
       "  <thead>\n",
       "    <tr style=\"text-align: right;\">\n",
       "      <th></th>\n",
       "      <th>words</th>\n",
       "    </tr>\n",
       "  </thead>\n",
       "  <tbody>\n",
       "    <tr>\n",
       "      <th>0</th>\n",
       "      <td>In the years thereafter, most of the Oil fields and platforms were named after pagan “gods”.</td>\n",
       "    </tr>\n",
       "    <tr>\n",
       "      <th>1</th>\n",
       "      <td>We love you Mr. Brown.</td>\n",
       "    </tr>\n",
       "    <tr>\n",
       "      <th>2</th>\n",
       "      <td>Chad has been awesome with the kids and holding down the fort while I work later than usual! The kids have been busy together playing Skylander on the XBox together, after Kyan cashed in his $$$ from his piggy bank. He wanted that game so bad and used his gift card from his birthday he has been saving and the money to get it (he never taps into that thing either, that is how we know he wanted it so bad). We made him count all of his money to make sure that he had enough! It was very cute to watch his reaction when he realized he did! He also does a very good job of letting Lola feel like she is playing too, by letting her switch out the characters! She loves it almost as much as him.</td>\n",
       "    </tr>\n",
       "    <tr>\n",
       "      <th>3</th>\n",
       "      <td>so anyways, i am going to share some home decor inspiration that i have been storing in my folder on the puter. i have all these amazing images stored away ready to come to life when we get our home.</td>\n",
       "    </tr>\n",
       "    <tr>\n",
       "      <th>4</th>\n",
       "      <td>With graduation season right around the corner, Nancy has whipped up a fun set to help you out with not only your graduation cards and gifts, but any occasion that brings on a change in one's life. I stamped the images in Memento Tuxedo Black and cut them out with circle Nestabilities. I embossed the kraft and red cardstock with TE's new Stars Impressions Plate, which is double sided and gives you 2 fantastic patterns. You can see how to use the Impressions Plates in this tutorial Taylor created. Just one pass through your die cut machine using the Embossing Pad Kit is all you need to do - super easy!</td>\n",
       "    </tr>\n",
       "    <tr>\n",
       "      <th>...</th>\n",
       "      <td>...</td>\n",
       "    </tr>\n",
       "    <tr>\n",
       "      <th>878607</th>\n",
       "      <td>The hulking mass of unfinished brick and concrete at 20-13 35th St. is so unsightly, it became a poster child for zoning reform.</td>\n",
       "    </tr>\n",
       "    <tr>\n",
       "      <th>878608</th>\n",
       "      <td>The 2004 IIFA award ceremony witnessed a contingent of over 450 stars, celebrities, cricketers, industrialists and government leaders over the festive weekend.</td>\n",
       "    </tr>\n",
       "    <tr>\n",
       "      <th>878609</th>\n",
       "      <td>Plus, I have also been allowing myself not to get ‘stressed’ over things that have not been done! If the ironing is not done right now, it’s not the end of the world! If that phone call is made tomorrow rather than today, then that’s OK too! Living in the moment and allowing myself the time to get ‘back to feeling great’!</td>\n",
       "    </tr>\n",
       "    <tr>\n",
       "      <th>878610</th>\n",
       "      <td>(5) What's the barrier to entry and why is the business sustainable?</td>\n",
       "    </tr>\n",
       "    <tr>\n",
       "      <th>878611</th>\n",
       "      <td>In response to an over-whelming number of comments we sat down and created a list of do (s) and don’t (s) – these recommendations are easy to follow and except for - adding some herbs to your rinse . So let’s get begin…</td>\n",
       "    </tr>\n",
       "  </tbody>\n",
       "</table>\n",
       "<p>878612 rows × 1 columns</p>\n",
       "</div>"
      ],
      "text/plain": [
       "                                                                                                                                                                                                                                                                                                                                                                                                                                                                                                                                                                                                                                                                                                                       words\n",
       "0                                                                                                                                                                                                                                                                                                                                                                                                                                                                                                                                                                                                                               In the years thereafter, most of the Oil fields and platforms were named after pagan “gods”.\n",
       "1                                                                                                                                                                                                                                                                                                                                                                                                                                                                                                                                                                                                                                                                                                     We love you Mr. Brown.\n",
       "2       Chad has been awesome with the kids and holding down the fort while I work later than usual! The kids have been busy together playing Skylander on the XBox together, after Kyan cashed in his $$$ from his piggy bank. He wanted that game so bad and used his gift card from his birthday he has been saving and the money to get it (he never taps into that thing either, that is how we know he wanted it so bad). We made him count all of his money to make sure that he had enough! It was very cute to watch his reaction when he realized he did! He also does a very good job of letting Lola feel like she is playing too, by letting her switch out the characters! She loves it almost as much as him.\n",
       "3                                                                                                                                                                                                                                                                                                                                                                                                                                                                                                                    so anyways, i am going to share some home decor inspiration that i have been storing in my folder on the puter. i have all these amazing images stored away ready to come to life when we get our home.\n",
       "4                                                                                           With graduation season right around the corner, Nancy has whipped up a fun set to help you out with not only your graduation cards and gifts, but any occasion that brings on a change in one's life. I stamped the images in Memento Tuxedo Black and cut them out with circle Nestabilities. I embossed the kraft and red cardstock with TE's new Stars Impressions Plate, which is double sided and gives you 2 fantastic patterns. You can see how to use the Impressions Plates in this tutorial Taylor created. Just one pass through your die cut machine using the Embossing Pad Kit is all you need to do - super easy!\n",
       "...                                                                                                                                                                                                                                                                                                                                                                                                                                                                                                                                                                                                                                                                                                                      ...\n",
       "878607                                                                                                                                                                                                                                                                                                                                                                                                                                                                                                                                                                                      The hulking mass of unfinished brick and concrete at 20-13 35th St. is so unsightly, it became a poster child for zoning reform.\n",
       "878608                                                                                                                                                                                                                                                                                                                                                                                                                                                                                                                                                       The 2004 IIFA award ceremony witnessed a contingent of over 450 stars, celebrities, cricketers, industrialists and government leaders over the festive weekend.\n",
       "878609                                                                                                                                                                                                                                                                                                                                                                                   Plus, I have also been allowing myself not to get ‘stressed’ over things that have not been done! If the ironing is not done right now, it’s not the end of the world! If that phone call is made tomorrow rather than today, then that’s OK too! Living in the moment and allowing myself the time to get ‘back to feeling great’!\n",
       "878610                                                                                                                                                                                                                                                                                                                                                                                                                                                                                                                                                                                                                                                  (5) What's the barrier to entry and why is the business sustainable?\n",
       "878611                                                                                                                                                                                                                                                                                                                                                                                                                                                                                           In response to an over-whelming number of comments we sat down and created a list of do (s) and don’t (s) – these recommendations are easy to follow and except for - adding some herbs to your rinse . So let’s get begin…\n",
       "\n",
       "[878612 rows x 1 columns]"
      ]
     },
     "execution_count": 5,
     "metadata": {},
     "output_type": "execute_result"
    }
   ],
   "source": [
    "blogs"
   ]
  },
  {
   "cell_type": "markdown",
   "metadata": {},
   "source": [
    "### The en_US.blogs.txt file is how many megabytes?"
   ]
  },
  {
   "cell_type": "code",
   "execution_count": 6,
   "metadata": {},
   "outputs": [
    {
     "data": {
      "text/plain": [
       "os.stat_result(st_mode=33206, st_ino=29836347531331694, st_dev=2363605595, st_nlink=1, st_uid=0, st_gid=0, st_size=210160014, st_atime=1615680629, st_mtime=1615616015, st_ctime=1405995186)"
      ]
     },
     "execution_count": 6,
     "metadata": {},
     "output_type": "execute_result"
    }
   ],
   "source": [
    "blogsize = os.stat(\"en_US.blogs.txt\")\n",
    "blogsize"
   ]
  },
  {
   "cell_type": "code",
   "execution_count": 7,
   "metadata": {},
   "outputs": [
    {
     "data": {
      "text/plain": [
       "200.42420768737793"
      ]
     },
     "execution_count": 7,
     "metadata": {},
     "output_type": "execute_result"
    }
   ],
   "source": [
    "blogsize.st_size / (1024*1024)"
   ]
  },
  {
   "cell_type": "code",
   "execution_count": 8,
   "metadata": {},
   "outputs": [
    {
     "data": {
      "text/html": [
       "<div>\n",
       "<style scoped>\n",
       "    .dataframe tbody tr th:only-of-type {\n",
       "        vertical-align: middle;\n",
       "    }\n",
       "\n",
       "    .dataframe tbody tr th {\n",
       "        vertical-align: top;\n",
       "    }\n",
       "\n",
       "    .dataframe thead th {\n",
       "        text-align: right;\n",
       "    }\n",
       "</style>\n",
       "<table border=\"1\" class=\"dataframe\">\n",
       "  <thead>\n",
       "    <tr style=\"text-align: right;\">\n",
       "      <th></th>\n",
       "      <th>words</th>\n",
       "    </tr>\n",
       "  </thead>\n",
       "  <tbody>\n",
       "    <tr>\n",
       "      <th>0</th>\n",
       "      <td>He wasn't home alone, apparently.</td>\n",
       "    </tr>\n",
       "    <tr>\n",
       "      <th>1</th>\n",
       "      <td>The St. Louis plant had to close. It would die of old age. Workers had been making cars there since the onset of mass automotive production in the 1920s.</td>\n",
       "    </tr>\n",
       "    <tr>\n",
       "      <th>2</th>\n",
       "      <td>WSU's plans quickly became a hot topic on local online sites. Though most people applauded plans for the new biomedical center, many deplored the potential loss of the building.</td>\n",
       "    </tr>\n",
       "    <tr>\n",
       "      <th>3</th>\n",
       "      <td>The Alaimo Group of Mount Holly was up for a contract last fall to evaluate and suggest improvements to Trenton Water Works. But campaign finance records released this week show the two employees donated a total of $4,500 to the political action committee (PAC) Partners for Progress in early June. Partners for Progress reported it gave more than $10,000 in both direct and in-kind contributions to Mayor Tony Mack in the two weeks leading up to his victory in the mayoral runoff election June 15.</td>\n",
       "    </tr>\n",
       "    <tr>\n",
       "      <th>4</th>\n",
       "      <td>And when it's often difficult to predict a law's impact, legislators should think twice before carrying any bill. Is it absolutely necessary? Is it an issue serious enough to merit their attention? Will it definitely not make the situation worse?</td>\n",
       "    </tr>\n",
       "    <tr>\n",
       "      <th>...</th>\n",
       "      <td>...</td>\n",
       "    </tr>\n",
       "    <tr>\n",
       "      <th>1000100</th>\n",
       "      <td>Serve a taste of spring: Chop fresh vegetables, olives, cheeses and some grilled chicken. Set out a selection of salad dressings, and let guests assemble their own chopped salads. These numbered jars hold the dressings in style, $5 each at Anthropologie. See anthropologie.com for stores.</td>\n",
       "    </tr>\n",
       "    <tr>\n",
       "      <th>1000101</th>\n",
       "      <td>The complaint alleges that Kuvan Adil Piromari, 42, of U.S. Driving School in El Cajon, served as a go-between for the applicants and state employees. No one answered the phone at his office.</td>\n",
       "    </tr>\n",
       "    <tr>\n",
       "      <th>1000102</th>\n",
       "      <td>But I'm in the mood. After six or more months of chill and ice crystals in Northeast Ohio, the ground is soft and fragrant. Seemingly overnight, things are growing as if we were in the tropics. We are again producing fruit of the earth: sweet corn, mightily fragrant herbs, deep green and tender broccoli.</td>\n",
       "    </tr>\n",
       "    <tr>\n",
       "      <th>1000103</th>\n",
       "      <td>That starts this Sunday at Chivas. The Goats aren't a great team, but they just beat one (a 1-0 win over Salt Lake at Rio Tinto). They also have the one player who can rival Roger Espinoza as \"The Best Guy in MLS That No One Talks About Because He Doesn't Play in New York, LA or the Pacific Northwest\" in goalkeeper Dan Kennedy. These will be tough points.</td>\n",
       "    </tr>\n",
       "    <tr>\n",
       "      <th>1000104</th>\n",
       "      <td>The only outwardly religious adornment was a billboard-sized banner with an image of Our Lady of Charity, patron saint of Cuba, hanging on the side of the National Library.</td>\n",
       "    </tr>\n",
       "  </tbody>\n",
       "</table>\n",
       "<p>1000105 rows × 1 columns</p>\n",
       "</div>"
      ],
      "text/plain": [
       "                                                                                                                                                                                                                                                                                                                                                                                                                                                                                                                      words\n",
       "0                                                                                                                                                                                                                                                                                                                                                                                                                                                                                         He wasn't home alone, apparently.\n",
       "1                                                                                                                                                                                                                                                                                                                                                                 The St. Louis plant had to close. It would die of old age. Workers had been making cars there since the onset of mass automotive production in the 1920s.\n",
       "2                                                                                                                                                                                                                                                                                                                                         WSU's plans quickly became a hot topic on local online sites. Though most people applauded plans for the new biomedical center, many deplored the potential loss of the building.\n",
       "3        The Alaimo Group of Mount Holly was up for a contract last fall to evaluate and suggest improvements to Trenton Water Works. But campaign finance records released this week show the two employees donated a total of $4,500 to the political action committee (PAC) Partners for Progress in early June. Partners for Progress reported it gave more than $10,000 in both direct and in-kind contributions to Mayor Tony Mack in the two weeks leading up to his victory in the mayoral runoff election June 15.\n",
       "4                                                                                                                                                                                                                                                                    And when it's often difficult to predict a law's impact, legislators should think twice before carrying any bill. Is it absolutely necessary? Is it an issue serious enough to merit their attention? Will it definitely not make the situation worse?\n",
       "...                                                                                                                                                                                                                                                                                                                                                                                                                                                                                                                     ...\n",
       "1000100                                                                                                                                                                                                                    Serve a taste of spring: Chop fresh vegetables, olives, cheeses and some grilled chicken. Set out a selection of salad dressings, and let guests assemble their own chopped salads. These numbered jars hold the dressings in style, $5 each at Anthropologie. See anthropologie.com for stores.\n",
       "1000101                                                                                                                                                                                                                                                                                                                     The complaint alleges that Kuvan Adil Piromari, 42, of U.S. Driving School in El Cajon, served as a go-between for the applicants and state employees. No one answered the phone at his office.\n",
       "1000102                                                                                                                                                                                                   But I'm in the mood. After six or more months of chill and ice crystals in Northeast Ohio, the ground is soft and fragrant. Seemingly overnight, things are growing as if we were in the tropics. We are again producing fruit of the earth: sweet corn, mightily fragrant herbs, deep green and tender broccoli.\n",
       "1000103                                                                                                                                               That starts this Sunday at Chivas. The Goats aren't a great team, but they just beat one (a 1-0 win over Salt Lake at Rio Tinto). They also have the one player who can rival Roger Espinoza as \"The Best Guy in MLS That No One Talks About Because He Doesn't Play in New York, LA or the Pacific Northwest\" in goalkeeper Dan Kennedy. These will be tough points.\n",
       "1000104                                                                                                                                                                                                                                                                                                                                        The only outwardly religious adornment was a billboard-sized banner with an image of Our Lady of Charity, patron saint of Cuba, hanging on the side of the National Library.\n",
       "\n",
       "[1000105 rows x 1 columns]"
      ]
     },
     "execution_count": 8,
     "metadata": {},
     "output_type": "execute_result"
    }
   ],
   "source": [
    "news"
   ]
  },
  {
   "cell_type": "code",
   "execution_count": 9,
   "metadata": {},
   "outputs": [
    {
     "data": {
      "text/html": [
       "<div>\n",
       "<style scoped>\n",
       "    .dataframe tbody tr th:only-of-type {\n",
       "        vertical-align: middle;\n",
       "    }\n",
       "\n",
       "    .dataframe tbody tr th {\n",
       "        vertical-align: top;\n",
       "    }\n",
       "\n",
       "    .dataframe thead th {\n",
       "        text-align: right;\n",
       "    }\n",
       "</style>\n",
       "<table border=\"1\" class=\"dataframe\">\n",
       "  <thead>\n",
       "    <tr style=\"text-align: right;\">\n",
       "      <th></th>\n",
       "      <th>words</th>\n",
       "    </tr>\n",
       "  </thead>\n",
       "  <tbody>\n",
       "    <tr>\n",
       "      <th>0</th>\n",
       "      <td>How are you? Btw thanks for the RT. You gonna be in DC anytime soon? Love to see you. Been way, way too long.</td>\n",
       "    </tr>\n",
       "    <tr>\n",
       "      <th>1</th>\n",
       "      <td>When you meet someone special... you'll know. Your heart will beat more rapidly and you'll smile for no reason.</td>\n",
       "    </tr>\n",
       "    <tr>\n",
       "      <th>2</th>\n",
       "      <td>they've decided its more fun if I don't.</td>\n",
       "    </tr>\n",
       "    <tr>\n",
       "      <th>3</th>\n",
       "      <td>So Tired D; Played Lazer Tag &amp; Ran A LOT D; Ughh Going To Sleep Like In 5 Minutes ;)</td>\n",
       "    </tr>\n",
       "    <tr>\n",
       "      <th>4</th>\n",
       "      <td>Words from a complete stranger! Made my birthday even better :)</td>\n",
       "    </tr>\n",
       "    <tr>\n",
       "      <th>...</th>\n",
       "      <td>...</td>\n",
       "    </tr>\n",
       "    <tr>\n",
       "      <th>2342728</th>\n",
       "      <td>what's good. I see the success you got poppin in yo area.</td>\n",
       "    </tr>\n",
       "    <tr>\n",
       "      <th>2342729</th>\n",
       "      <td>RT : Consumers are visual. They want data at their finger tips. Mobile is the only way to deliver this, 24/7.</td>\n",
       "    </tr>\n",
       "    <tr>\n",
       "      <th>2342730</th>\n",
       "      <td>u welcome</td>\n",
       "    </tr>\n",
       "    <tr>\n",
       "      <th>2342731</th>\n",
       "      <td>It is #RHONJ time!!</td>\n",
       "    </tr>\n",
       "    <tr>\n",
       "      <th>2342732</th>\n",
       "      <td>The key to keeping your woman happy= attention, affection, treat her like a queen and sex her like a pornstar!</td>\n",
       "    </tr>\n",
       "  </tbody>\n",
       "</table>\n",
       "<p>2342733 rows × 1 columns</p>\n",
       "</div>"
      ],
      "text/plain": [
       "                                                                                                                   words\n",
       "0          How are you? Btw thanks for the RT. You gonna be in DC anytime soon? Love to see you. Been way, way too long.\n",
       "1        When you meet someone special... you'll know. Your heart will beat more rapidly and you'll smile for no reason.\n",
       "2                                                                               they've decided its more fun if I don't.\n",
       "3                                   So Tired D; Played Lazer Tag & Ran A LOT D; Ughh Going To Sleep Like In 5 Minutes ;)\n",
       "4                                                        Words from a complete stranger! Made my birthday even better :)\n",
       "...                                                                                                                  ...\n",
       "2342728                                                        what's good. I see the success you got poppin in yo area.\n",
       "2342729    RT : Consumers are visual. They want data at their finger tips. Mobile is the only way to deliver this, 24/7.\n",
       "2342730                                                                                                        u welcome\n",
       "2342731                                                                                              It is #RHONJ time!!\n",
       "2342732   The key to keeping your woman happy= attention, affection, treat her like a queen and sex her like a pornstar!\n",
       "\n",
       "[2342733 rows x 1 columns]"
      ]
     },
     "execution_count": 9,
     "metadata": {},
     "output_type": "execute_result"
    }
   ],
   "source": [
    "twitter"
   ]
  },
  {
   "cell_type": "markdown",
   "metadata": {},
   "source": [
    "### The en_US.twitter.txt has how many lines of text?"
   ]
  },
  {
   "cell_type": "code",
   "execution_count": 10,
   "metadata": {},
   "outputs": [
    {
     "name": "stdout",
     "output_type": "stream",
     "text": [
      "Enter file name: en_US.twitter.txt\n",
      "Number of lines:\n",
      "2360148\n"
     ]
    }
   ],
   "source": [
    "fname = input(\"Enter file name: \")\n",
    "num_lines = 0\n",
    "with open(fname, 'r', encoding=\"utf8\") as f:\n",
    "    for line in f:\n",
    "        num_lines += 1\n",
    "print(\"Number of lines:\")\n",
    "print(num_lines)"
   ]
  },
  {
   "cell_type": "markdown",
   "metadata": {},
   "source": [
    "### What is the length of the longest line seen in any of the three en_US data sets?"
   ]
  },
  {
   "cell_type": "code",
   "execution_count": 11,
   "metadata": {},
   "outputs": [
    {
     "data": {
      "text/plain": [
       "640860        1\n",
       "561033        1\n",
       "563482        1\n",
       "480059        1\n",
       "600573        1\n",
       "          ...  \n",
       "192046    25249\n",
       "213823    27954\n",
       "484083    35153\n",
       "505862    37191\n",
       "472858    40833\n",
       "Name: words, Length: 878612, dtype: int64"
      ]
     },
     "execution_count": 11,
     "metadata": {},
     "output_type": "execute_result"
    }
   ],
   "source": [
    "# Characters count\n",
    "blogs[\"words\"].apply(lambda x: len(x)).sort_values()"
   ]
  },
  {
   "cell_type": "code",
   "execution_count": 12,
   "metadata": {},
   "outputs": [
    {
     "data": {
      "text/plain": [
       "'UPDATE AS OF 11:30 A.M. EDT, MONDAY, APRIL 11: No damage to Japan\\'s nuclear power plants was reported today after another strong aftershock hit the northeast coast. The temblor, measured at magnitude 6.6 by the U.S. Geological Survey, rocked the country one month after the magnitude 9.0 earthquake and tsunami struck March 11, damaging the Fukushima Daiichi nuclear power plant. A magnitude 7.1 aftershock rattled Japan April 7. The Monday earthquake prompted the temporary evacuation of workers at the plant and interrupted the offsite electric power supply for less than an hour. Injection of cooling water to reactors 1, 2, and 3 resumed within an hour. Officials reported no new damage or increased radiation levels. Workers continued to spray water into the spent fuel pools of reactors 1-4 as needed. As an additional safety measure, Tokyo Electric Power Co. (TEPCO) has brought additional diesel generators to the site as a backup in case offsite power is disabled. Preparations are being made to transfer highly radioactive water from reactor 2 to a water storage tank. Workers are inspecting the tank to ensure there will be no leaks. TEPCO is injecting nitrogen gas into the reactor 1 containment vessel to reduce the possibility of a hydrogen explosion. TEPCO plans to inject nitrogen into the containment vessels of reactors 2 and 3, the Japan Atomic Industrial Forum reported. TEPCO used a drone helicopter to take aerial pictures of reactor buildings that are highly contaminated. TEPCO also is using remote-controlled heavy equipment to remove radioactive debris. Japanese authorities announced that residents of some municipalities outside the 12.5-mile radius evacuation zone will be relocated to reduce long-term radiation exposure. Radiation can accumulate in some places based on weather and geographical factors. The relocation orders will apply to areas where there is a possibility of residents receiving a dose of 2,000 millirem over the course of a year. UPDATE AS OF 11:30 A.M. EDT, FRIDAY, APRIL 8: No nuclear power plants were seriously damaged in the heavy aftershock that rattled northeastern Japan Thursday, the International Atomic Energy Agency reported. The epicenter of the 7.1 magnitude earthquake was 12.5 miles from the Onagawa nuclear power plant and about 75 miles from the Fukushima Daiichi site, where engineers are working to restore fuel cooling capabilities that were lost in the original March 11 temblor and tsunami. Fukushima Daiichi At Fukushima Daiichi, the injection of cooling water into the reactor pressure vessels of reactors 1, 2 and 3 continued Friday, along with injection of nitrogen gas into the containment vessel of reactor 1. The nitrogen will prevent possible ignition of hydrogen that may be accumulating in the containment. Tokyo Electric Power Co. is continuing the discharge of low-level radioactive water from a waste storage tank into the Pacific Ocean to make room for highly radioactive water pooled in the basement of the reactor 2 turbine building. Isolated spikes in radiation inside reactor 1 containment have been associated with possible fuel movement during the April 7 aftershock, but radiation dose rates elsewhere at the site continue to decline. The government lifted restrictions on shipments of raw milk and some produce from municipalities near Fukushima Daiichi. An official said tests show the food is safe to consume. The aftershock of April 7 caused minimal, if any, disruption at other nuclear power plants. UPDATE AS OF 1:00 P.M. EDT, THURSDAY, APRIL 7: Tokyo Electric Power Co. continued to inject cooling water into reactors 1, 2 and 3 at the Fukushima Daiichi nuclear power plant, despite a 7.1 magnitude aftershock that hit 70 miles north of the plant..... Fukushima Daiichi Seawater radiation levels, while still significantly higher than government safety limits, have decreased near the power plant since TEPCO blocked a leak of highly radioactive water into the ocean. TEPCO said it is too early to credit stopping the leak with the decline. Workers continued to inject nitrogen gas into the containment vessel of reactor 1, a process that began Wednesday. Inert nitrogen gas is used in reactor containment vessels to stabilize the atmosphere. The nitrogen injection is to prevent possible ignition of the hydrogen that is believed to be accumulating inside the reactor 1 containment. It is expected to take six days to complete the process. Spraying water onto the used fuel storage pools at reactors 1-4 was interrupted briefly because of the earthquake. TEPCO continued its controlled discharge of low-level radioactive water into the Pacific Ocean to make room in storage tanks for more highly contaminated water on the site. The highly radioactive water in turbine building basements is hampering efforts to restore cooling systems, particularly for reactor 2, where the radiation is highest. Before the highly radioactive water is pumped into the wastewater storage tank, the facility must be inspected for damage, the Japan Atomic Industrial Forum reported. Inspection could take up to a week. The Japanese government is evaluating possible evacuation of some residents from areas within 12.5 to 18.5 miles of the Fukushima Daiichi site. Residents in the 12.5-mile zone were evacuated early in the emergency. Those within the outer area have been advised to stay indoors. The additional evacuation would be from areas where radiation has accumulated since March 11. UPDATE AS OF 11:30 A.M. EDT, TUESDAY, APRIL 5: Tokyo Electric Power Co. (TEPCO) continued efforts Tuesday to stop the flow of radioactive water from the Fukushima Daiichi nuclear power plant into the Pacific Ocean. On Saturday, workers found a crack in a concrete enclosure used to carry electric cables near reactor 2. Since then, TEPCO has attempted to seal the crack with concrete and with an absorbent polymer, with no success. A colored liquid tracer was injected into the system of enclosures Monday to determine the flow path of the water. The test showed that the radioactive water may be leaking from a cracked pipe, and then seeping through gravel into the concrete enclosure. Today, TEPCO is taking a new approach: sealing gravel under the enclosure with liquid glass. TEPCO has not yet announced the outcome. To free up storage space for highly radioactive water in a waste disposal tank, TEPCO has begun to discharge 11,500 tons of low-level radioactive water into the ocean. The utility will use the tank to hold highly radioactive water that has accumulated in the basements of the reactor 1, 2 and 3 turbine buildings. Small fish caught in waters south of Fukushima prefecture have been found to contain radioactive cesium. The Ibaraki Prefecture government said 14 picocuries of radioactive cesium was detected in one kilogram of sand lances. The acceptable limit is 13.5 picocuries per kilogram. This is the first time radioactive cesium has been found in fish at a level above the government limit. Workers continue to inject cooling water into reactors 1, 2 and 3. In addition, spent fuel pools for reactors 1-4 are sprayed with fresh water as needed to keep them cool. (See NEI\\'s video, \"Spent Fuel Storage in Pools at Nuclear Energy Plants,\" for more information about how these pools work.) UPDATE AS OF 11:30 A.M. EDT, MONDAY, APRIL 4: Workers at the Fukushima Daiichi nuclear power plant continued searching Monday for sources of contaminated water leaking from the site into the ocean. Attempts to seal a crack in a concrete enclosure for cabling in reactor 2 are ongoing after initial efforts failed. Tokyo Electric Power Co. (TEPCO) injected a color tracer into the enclosure in an effort to track the flow of water. That test confirmed the radioactive water is from multiple sources. TEPCO is planning to install underwater silt barriers near the intake for reactor 2 to help contain the contaminated water. Japan\\'s Nuclear and Industrial Safety Agency (NISA) and Nuclear Safety Commission both said it will take several months to restore permanent core cooling for the damaged reactors. NISA said it will take that amount of time to remove contaminated water from the turbine buildings and restore damaged plant equipment. To free up storage space for highly radioactive water in a waste disposal tank, TEPCO is seeking approval to discharge 11,500 tons of low-level radioactive water into the ocean. The utility said the radiation level in the water to be discharged is very low. TEPCO estimated that someone eating fish and seaweed from the adjacent water every day for a year would receive a total exposure of 60 millirem, less than a quarter of the average annual exposure from natural radiation. Workers continue to inject cooling water into reactors 1, 2 and 3. In addition, spent fuel pools for reactors 1-4 are sprayed with fresh water as needed to keep them cool. Radiation dose rates at the Daiichi site continue to fall. Recent readings showed 12.4 millirem per hour at the main gate, 7.4 millirem per hour at the west gate and 78 millirem per hour on the side of the administration building facing the reactors. UPDATE AS OF 3 P.M. EDT, SUNDAY, APRIL 3: Tokyo Electric Power planned Sunday to inject water-absorbing polymer into a cracked concrete enclosure near the reactor 2 water intake at the Fukushima Daiichi nuclear power plant in an effort to stop radioactive water from leaking into the ocean. Yesterday, pouring concrete into the concrete enclosure, which carries electric cables, failed to seal the crack. TEPCO said it had not found water leaking from the concrete enclosures at other reactors, the Japan Atomic Industrial Forum reported. Following detection of the reactor 2 leak, the power company began testing radiation levels in sea water 15 kilometers (about 9.5 miles) from the facility. A U.S. Navy barge has begun supplying fresh water as injection continues to cool reactors 1, 2, and 3. TEPCO is using a motor-driven pump powered by an off-site transmission line. A second barge with more fresh water has arrived at the site. Electric power has been restored to lighting in the turbine buildings of reactors 1, 2, and 3. Radiation Measurements After consultations with nuclear experts from the United States, TEPCO has begun to measure radiation levels inside the nuclear power plant\\'s 20-kilometer (12.5 mile) evacuation zone. Measurements have been taken routinely outside the zone, but TEPCO has been reluctant to conduct tests closer to the plant because of anticipated radiation exposure to workers taking those measurements. Radiation levels off site and at the site boundary are generally decreasing, although localized areas with elevated levels are being identified for further analysis. Protective action recommendations for food and water are gradually being lifted in many locations, but some remain pending further analysis. The government is looking carefully at how and when to allow evacuees to return to their homes. The situation remains difficult for evacuees, especially the elderly and ill among them, but the government is escalating efforts to accommodate those who have evacuated. The government is monitoring children up to 15 years old in some prefectures for possible iodine-131 exposure. Based on preliminary results, iodine-131 has not been found at levels that exceed action levels, and in many areas there has been no exposure. UPDATE AS OF 12 P.M. EDT, SATURDAY, APRIL 2: Recovery efforts continue at the Fukushima Daiichi nuclear plant in Japan, as aid pours in from the international nuclear community in the form of technical expertise, protective equipment for workers, storage tanks for contaminated water and other measures. Today, Tokyo Electric Power Co. (TEPCO) said it has identified one likely source of contaminated water reaching the Pacific Ocean, accounting for some of the radiation readings in seawater samples taken over the past several days. The crack is in a two-meter-deep concrete \"pit,\" or trench, that contains power cables near the reactor 2 water intake. Water measuring between 10 and 20 centimeters deep was found in the pit with radiation levels of more than 1,000 milliSieverts per hour. TEPCO plans to pour concrete to patch the crack while continuing to search for other potential leak paths. The Nuclear Industrial and Safety Agency says iodine-131 will be diluted in seawater and does not pose a threat to the public. Additionally, iodine-131 has a short half-life-about eight days-and will decay to harmless levels fairly quickly. (See NEI\\'s fact sheet to learn more about the health impacts of iodine-131.) The Japan Atomic Industrial Forum said TEPCO is obtaining a \"massive, hollow floating platform\" from Shizuoka City and will use it to store contaminated water from the Fukushima site. The float can store up to 18,000 tons of water. Meanwhile TEPCO and the Japanese government are working to identify safe methods for transporting and storing contaminated water. UPDATE AS OF 12:30 P.M. EDT, FRIDAY, APRIL 1: Japan\\'s nuclear safety agency has reprimanded Tokyo Electric Power Co. for not providing radiation monitors to all emergency workers at the Fukushima Daiichi nuclear power plant. Each worker is supposed to have an individual radiation monitor, but some emergency teams have had to share monitors, the Japan Atomic Industrial Forum reported. TEPCO said that low-priority work will be suspended if employees do not have monitors. TEPCO said that only 320 of the 5,000 radiation monitors were available after the earthquake and tsunami, JAIF said. Radiation Found in Beef Radiation that exceeds safety standards has been found in beef in Fukushima and three neighboring prefectures, JAIF reported. Radiation also was found in spinach and other vegetables grown in the area. Japan\\'s health ministry said the beef and vegetables have not been shipped and are not on the market. Fukushima Daiichi A U.S. Navy barge containing freshwater to cool the reactors and used fuel pools at the Daiichi site has been towed to the pier. It will be connected to the pumps with hoses. Meanwhile, injection of freshwater continues at reactors 1-3 and workers continue to spray freshwater on the used fuel pools for reactors 1-4. TEPCO is evaluating the use of a synthetic resin that would be sprayed over debris at the site to prevent the spread of radioactive dust. Additional equipment, including the biggest concrete pump in the world, is being provided by U.S. companies. The pump\\'s 70-meter boom can be controlled remotely. It has been in use at the Savannah River Site, helping build a U.S. government mixed oxide nuclear fuel plant. Concrete pumps are already in use at the site to assist with spraying water into the used fuel pools. UPDATE AS OF 11:30 A.M. EDT, THURSDAY, MARCH 31: A minuscule amount of radioactive iodine was detected in milk in Spokane, Wash., the U.S. Environmental Protection Agency reported. The agency said the level detected-0.8 picocuries per liter-is more than 5,000 times lower than the level that would prompt any action by the U.S. Food and Drug Administration to pull milk from grocery stores. \"These types of findings are to be expected in the coming days and are far below levels of public health concern, including for infants and children,\" the EPA said. The EPA has increased its nationwide monitoring of milk, rain water and drinking water (see the agency\\'s website for information on radiation air monitoring). Fukushima Daiichi Tokyo Electric Power Co. is increasing its efforts to remove radioactive water that has pooled inside concrete vaults that house pipes near the reactors at the Fukushima Daiichi nuclear plant. Maintaining cooling water flow to the reactors and used nuclear fuel storage pools and containing and removing the contaminated water continue to be priorities for workers at the site. Contaminated water was found in the basements of the turbine buildings at reactors 1-4 and in the concrete vaults outside the buildings. Workers finished pumping water from the reactor 3 turbine building and are removing water from the reactor 1 tunnel into a storage tank. Today, TEPCO has been pumping contaminated water from the reactor 2 turbine building into a storage tank. Freshwater injection continues to cool reactors 1, 2, and 3. The company also is spraying cooling water into the used nuclear fuel storage pools at reactors 1-4. (For information on how spent fuel pools work, see NEI\\'s video.) Fukushima Daini All reactors at the Fukushima Daini site remain in safe condition. Smoke seen at reactor 1 at the Daini site on Wednesday resulted from a short circuit in a sump pump at the reactor. The smoke stopped after workers at the facility opened the power supply to the breaker for the pump. The cause of the short circuit is being investigated. UPDATE AS OF 6:30 P.M. EDT, TUESDAY, MARCH 29: Tokyo Electric Power Co. said that cooling water is being added to the spent storage fuel pools at reactors 2 and 3. Reactor 2 was using a temporary motor-driven pump and reactor 3 was using a truck to pump the freshwater into the fuel storage pools. The International Atomic Energy Agency (IAEA) said that plans are being made to begin pumping freshwater into the fuel storage pool at reactor 4 starting today. IAEA said that 63 food samples taken March 24-29 in eight prefectures (Chiba, Fukushima, Gunma, Ibaraki, Miyagi, Niigata, Tochigi and Yamagata) were below regulatory limits set by the Japanese government for iodine-131, cesium-134 and cesium-137. New analyses of seawater about 1,000 feet from the discharge point of reactors 1 through 4 show \"a significant decrease\" in radiation levels from March 26, IAEA said. Readings for iodine-131 went from 2,000,000 picocuries (1 picocurie is one-trillionth of a curie) per liter on March 26 to 297,300 picocuries per liter on March 27. Readings for cesium-137 went from 324,324 picocuries per liter on March 26 to 51,351 picocuries per liter on March 27. IAEA said that radiation readings in seawater \"will be quite variable in the near future depending on water discharge levels.\" [note this prediction was shown on the 29th and 30th to be quite true, as levels spiked up] Japan\\'s National Research Institute of Fishery Science has analyzed five fish samples from the port of Choshi in Chiba prefecture and found concentrations in the fish to be \"far below any concern for fish consumption.\" Four of five samples showed cesium-137 concentrations below the limit of detection. In the remaining sample, cesium-137 was found to be slightly above detectable levels. IAEA said the situation was evolving, but that concentrations of radionuclides in seawater would soon drop to lower values by dilution and that the levels in marine food would most likely not reach levels above regulatory limits set for consumption. In the United States, the U.S. Environmental Protection Agency\\'s daily data summary from its RadNet radiation air monitors across the United States show typical fluctuations in background radiation levels as of 8:30 A.M. EDT. \"The levels detected are far below levels of concern,\" EPA said. UPDATE AS OF 9:30 A.M. EDT, MARCH 27: Tokyo Electric Power Co. workers on Sunday were using pumps to remove highly contaminated water from the basement of the turbine building of reactors 1 and 2 at the Fukushima Daiichi nuclear power plant. TEPCO also was preparing to remove water from the turbine building of reactor 3. Removal of the contaminated water is necessary to continue power restoration to the plant. By Sunday, water injection to the pressure vessels at reactors 1, 2 and 3 had been switched from seawater to freshwater. Off-site power has been restored to all units and work to connect equipment is ongoing. Progress is being slowed by high radiation levels and wet equipment. TEPCO said that earlier reports of extremely high radiation levels measured in the water in the basement of the reactor 2 turbine building were inaccurate, according to news reports. UPDATE AS OF 7:00 P.M. EDT, MARCH 25: Fresh water is being injected into the reactor pressure vessel at reactor 3 at Fukushima Daiichi nuclear power plant, Japan\\'s Nuclear and Industrial Safety Agency said. TEPCO said that radioactive materials discovered at the reactor 3 turbine building possibly came from water from the reactor system, not the spent fuel pool. TEPCO made that statement after collecting samples of contaminated water in the reactor 3 turbine building and conducting a gamma-emitting nuclide analysis of the sample. The reactor pressure and drywell pressure at reactor 3 remained stable on Friday, leading TEPCO to believe that \"the reactor pressure vessel is not seriously damaged. Cooling efforts at Reactor 1 already had switched back to fresh water cooling. Reactor 2 is still being injected with seawater, but is expected to switch to fresh water soon. Tokyo Electric Power Co. said that crews continued spraying water into the used fuel storage pools at reactors 3 and 4 on Friday to keep the used uranium fuel rods safe. Also on Friday, the heat removal system at reactor 6 was switched to a permanent power supply, NISA added. TEPCO said it was assessing the radiation dose to two workers who were contaminated while laying cable in the turbine building of reactor 3. TEPCO said it had instructed its employees and contract workers to pay attention to their personal radiation dosimeter alarms and evacuate when necessary. On-site radiation monitoring at the Fukushima Daiichi nuclear power plant indicates that radiation dose rates continue to decrease, the International Atomic Energy Agency said. Radiation Monitoring Update Air and seawater sampling continues by the Japanese government. Measurements in the ocean were taken 30 kilometers off-shore and 330 meters from the discharge points on March 23 and March 24. Results indicate concentrations of iodine-131 at 2,162 picocuries per liter and cesium-137 at approximately 703 picocuries per liter. Adult consumption of 1,000 picocuries (1 picocurie is one-trillionth of a curie) per liter concentration for 30 days will result in 24 millirem of radiation dose. For comparison, a typical dose from a chest x-ray is 10 millirem. The concentrations found in the seawater samples are most likely \"due to atmospheric fallout rather than just ocean currents,\" IAEA said. Dilution is expected to rapidly decrease this surface contamination, IAEA added. Iodine-131 was detected in drinking water in 13 prefectures and cesium-137 was detected in drinking water in six prefectures. All results remained below the limits set by the Japanese government, IAEA said. Iodine-131 levels in drinking water in Tokyo are now below limits for consumption by infants set by the Japanese authorities and restrictions have been lifted. On March 25, the IAEA radiation monitoring team made additional measurements at distances from 34 to 62 kilometers from the Fukushima Daiichi nuclear power plant. At these locations, the radiation dose rate was at extraordinarily low levels, ranging from 0.073 millirem per hour to 0.88 millirem per hour. UPDATE AS OF 9:30 A.M. EDT, MARCH 25: Japanese officials are investigating the source of higher radiation readings at reactor 3 at the Fukushima Daiichi nuclear power plant after two workers were contaminated while laying cable in the turbine building. Tests of the water in which the workers were standing contained a concentration of radioactive material many times the level normally found in water circulating in the reactor, the Nuclear and Industrial Safety Agency said. \"When we looked into the composition of the water, the source...seems to be the reactor core,\" said NISA\\'s Hidehiko Nishiyama. \"Another possibility is the spent fuel, and we cannot rule out that possibility either.\" Several possibilities could account for the presence of radioactive materials in the turbine building. Seawater sprayed onto the fuel pool area may have washed over the floor of the fuel pool area onto the turbine building and leaked through the damaged roof into the basement of that building. Other possibilities include a problem with an interconnected system to the primary containment, such as the main steam system, or a small opening in the reactor containment structure. Japanese authorities recommended residents within 30 kilometers of the plant evacuate voluntarily, extending the recommendation from 20 kilometers. Damage to infrastructure in the area from the earthquake severely limits the ability to provide water, food and other necessary supplies to people sheltering in their homes for the coming weeks. Tokyo Electric Power Co. is stepping up efforts to switch from sea water to fresh water for cooling the reactors and used fuel storage pools. The United States government has urged the switch to fresh water as soon as possible and is providing two U.S. Navy barges, each of which can carry up to 1,000 tons of water. The ships are scheduled to reach port about 60 kilometers from the Daiichi plant in about three days. Japanese workers at the site will install pipes and hoses to carry the water to the plant. .... UPDATE AS OF 11:20 A.M. EDT, FRIDAY, MARCH 18: Reactors 1, 2 and 3 at the Fukushima Daiichi nuclear power plant are in stable condition, with workers continuing to provide seawater cooling into the reactors. Containment integrity is believed to be intact on reactors 1, 2 and 3, and containment building pressures are elevated but are within design limits. Site radiation doses have been decreasing since March 16. Radiation dose rates are fluctuating based on some of the relief operations, such as adding cooling water to the used fuel pools. Recent readings at the plant boundary are about 2 millirem per hour. Radiation dose rates at reactor 3 range between 2,500 and 5,000 millirem per hour. The Japanese Self-Defense Force restarted cooling water spray into the Unit 3 reactor building and spent fuel pool at around 1 a.m. EDT on March 18. Plans are to spray 50 tons of water on the reactor 3 reactor building/spent fuel pool using seven fire-fighting trucks. A diesel generator is supplying power to reactors 5 and 6. TEPCO is installing high voltage cables from a nearby transmission line to reactors 1 and 2. Once electricity supply is re-established, priority will be given to restoring power to reactor heat removal systems and cooling water pumps. Workers are seeking to install electrical cables to reactors 3 and 4 components in about two days. UPDATE AS OF 10:20 P.M. EDT, THURSDAY, MARCH 17: TEPCO continues to install cables, transformers and distribution equipment to restore offsite grid power to Fukushima Daiichi reactors 1 and 2. Reactor 1 has now been included in the power restoration plan. Chief Cabinet Secretary Edano said in a recent conference that plans are in place to use 30 water cannon trucks and fire engines to spray water into the reactor 3 spent fuel pool, and TEPCO is discussing whether to do the same for the reactor 1 spent fuel pool. The spraying work is to be done in the next few hours, after the cable work is completed. UPDATE AS OF 9:15 P.M. EDT, THURSDAY, MARCH 17: Tokyo Electric Power Co. said it hopes to activate the cooling system for Fukushima Daiichi reactor 2 \"as early as Friday night\" (Japan time). The company said it could restore power from the electric grid to reactor 2 by Thursday night (U.S. time). The International Atomic Energy Agency reported that TEPCO completed connecting electrical cable from a makeshift transformer to reactor 2 at 4:30 A.M. EDT. Engineers were waiting to complete spraying sea water into the reactor 3 fuel pool before they restore power through the cable to the reactor 2 cooling system. TEPCO says that if it can provide power supply to the other reactors, it could begin restoring some cooling functions. The company said that after fire trucks injected water into reactor 3\\'s fuel pool, radiation levels at the plant\\'s west gate dropped from 31 millirem per hour to 29 millirem per hour at 10:00 A.M. EDT. UPDATE AS OF 5:00 P.M. EDT, THURSDAY, MARCH 17: It is unlikely that radiation released from the nuclear reactors in Japan will harm anyone in the United States, President Obama said in a press briefing this afternoon. \"We do not expect harmful levels of radiation to reach the United States, Hawaii, Alaska or U.S. territories in the Pacific,\" Obama said. He added that the Centers for Disease Control and Prevention \"does not recommend that people in the U.S. take precautionary measures other than staying informed.\" Obama said \"our nuclear plants have undergone exhaustive study and have been declared safe for any number of contingencies.\" However, he said that when there is an event such as the Fukushima accident, \"we should learn from that. That\\'s why I have asked the NRC to do a comprehensive review of our nuclear plants\" in light of the natural disaster that has happened in Japan. In a briefing earlier on Thursday, Gregory Jaczko, chairman of the U.S. Nuclear Regulatory Commission, said, \"There can\\'t be any harm to anyone in the United States\" from the Japanese nuclear power plant. Dan Poneman, the deputy secretary of energy, said today that two U.S. flights to Japan collected information on radiation levels. These readings informed the decision to recommend that Americans evacuate an area 50 miles from the Fukushima Daiichi nuclear energy facility. Poneman expressed confidence in the safety of U.S. nuclear power plants, saying they\\'re evaluated on a \"minute by minute\" basis. Taking safety precautions \"goes back decades,\" he said. Tough safety standards have been in effect and upgraded since 1979, he said. Status of Fukushima plants In Japan, engineers have laid a power line that can connect reactor 2 of the Daiichi facility to the off-site power grid, the International Atomic Energy Agency reported. Workers are working to reconnect the power to reactor 2 after they complete spraying water into the reactor 3 complex to provide additional cooling to the used fuel pool. Reconnecting to the power grid is expected to enhance efforts to prevent further damage at the plant. Japan\\'s Nuclear and Industrial Safety Agency reported on Thursday that the backup diesel generator for reactor 6 is working and supplying electricity to reactors 5 and 6. TEPCO is preparing to add water to the storage pools that house used nuclear fuel rods at those two reactors. UPDATE AS OF 1:30 P.M. EDT, THURSDAY, MARCH 17: Radiation readings at the Fukushima Daiichi site boundary were measured today at a lower level, between 2 and 3 millirem per hour. UPDATE AS OF 11:35 A.M. EDT, THURSDAY, MARCH 17: Fukushima Daiichi The reactors at the Fukushima Daiichi plant are in stable condition and are being cooled with seawater, but workers at the plant continue efforts to add cooling water to fuel pools at reactors 3 and 4. The status of the reactors at the site is as follows: Reactor 1\\'s primary containment is believed to be intact and the reactor is in a stable condition. Seawater injection into the reactor is continuing. Reactor 2 is in stable condition with seawater injection continuing. The reactor\\'s primary containment may not have been breached, Tokyo Electric Power Co. and World Association of Nuclear Operators officials said on Thursday. Access problems at the site have delayed connection of a temporary cable to restore off-site electricity. The connection will provide power to the control rod drive pump, instrumentation, batteries and the control room. Power has not been available at the site since the earthquake on March 11. Reactor 3 is in stable condition with seawater injection continuing. The primary containment is believed to be intact. Pressure in the containment has fluctuated due to venting of the reactor containment structure. TEPCO officials say that although one side of the concrete wall of the fuel pool structure has collapsed, the steel liner of the pool remains intact, based on aerial photos of the reactor taken on March 17. The pool still has water providing some cooling for the fuel; however, helicopters dropped water on the reactor four times during the morning (Japan time) on March 17. Water also was sprayed at reactor 4 using high-pressure water cannons. Reactors 5 and 6 were both shut down before the quake occurred. Primary and secondary containments are intact at both reactors. Temperature instruments in the spent fuel pools at reactors 5 and 6 are operational, and temperatures are being maintained at about 62 degrees Celsius. TEPCO is continuing efforts to restore power at reactor 5. Fukushima Daini All four reactors at the Fukushima Daini plant have reached cold shutdown conditions with normal cooling being maintained using residual heat removal systems. UPDATE AS OF 9:00 P.M. EDT, WEDNESDAY, MARCH 16: Crews began aerial water spraying operations from helicopters to cool reactor 3 at Fukushima Daiichi shortly before 9 p.m. EDT on Wednesday, March 16. The operation was planned for the previous day, but was postponed because of high radiation levels at the plant. News sources said temperatures at the reactor 3 were rising. Each helicopter is capable of releasing 7.5 tons of water. Spokesmen for TEPCO and Japan\\'s regulatory agency, Nuclear and Industry Safety Agency, on March 17 Japan time refuted reports that there was a complete loss of cooling water in the used fuel pool at Fukushima Daiichi reactor 4. The spokesmen said the situation at reactor 4 has changed little during the day today and water remained in the fuel pool. However, both officials said that the reactor had not been inspected in recent hours. \"We can\\'t get inside to check, but we\\'ve been carefully watching the building\\'s environs, and there has not been any particular problem,\" said TEPCO spokesman Hajime Motojuku. At about 7 p.m. EDT, NISA spokesman Takumi Koyamada said the temperature reading from the used fuel pool on Wednesday was 84 degrees Celsius and that no change had been reported since then. Typically, used uranium fuel rods are stored in deep water pools at temperatures of about 30 degrees Celsius. Recent radiation levels measured at the boundary of the Fukushima Daiichi plant have been dropping steadily over the past 12 hours, Japan\\'s Nuclear and Industrial Safety Agency said on Wednesday night (U.S. time). At 4 a.m. EDT on Wednesday, a radiation level of 75 millirem per hour was recorded at the plant\\'s main gate. At 4 p.m. EDT, the reading at one plant site gate was 34 millirem per hour. By comparison, the Nuclear Regulatory Commission\\'s annual radiation dose limit for the public is 100 millirem. Radiation readings are being taken every 30 minutes. Japan\\'s Chief Cabinet Secretary, Yukio Edano, said earlier today a radiation level of 33 millirem per hour was measured about 20 kilometers from the Fukushima Daiichi plant earlier this morning. He said that level does not pose an immediate health risk. Edano said that TEPCO has resumed efforts to spray water into the used fuel pool at the damaged reactor 4. TEPCO also continues efforts to restore offsite power to the plant, with up to 40 workers seeking to restore electricity to essential plant systems by Thursday morning, March 17. UPDATE AS OF 5:45 P.M. EDT, WEDNESDAY, MARCH 16: U.S. Nuclear Regulatory Commission Chairman Gregory Jaczko told members of Congress today that there is no water remaining in the fuel pool at reactor 4 at Fukushima Daiichi nuclear power plant. Jaczko told members of the House Energy and Commerce Committee that \"we believe that secondary containment has been destroyed and there is no water in the spent fuel pool�radiation levels are extremely high, which could impact the ability to take corrective measures.\" There is no updated information available from either Tokyo Electric Power or Japanese safety or regulatory officials on the status of the Fukushima plant. Japan\\'s Nuclear and Industrial Safety Agency said it also is concerned about the spent fuel storage pool at reactor 3 at the Fukushima Daiichi site. Also testifying before the House committee, Energy Secretary Steven Chu restated the administration\\'s commitment to nuclear energy. \"The American people should have full confidence that the United States has rigorous safety regulations in place to ensure that our nuclear power is generated safely and responsibly,\" Chu testified. \"Information is still coming in about the events unfolding in Japan, but the administration is committed to learning from Japan\\'s experience as we work to continue to strengthen America\\'s nuclear industry. \"Safety remains at the forefront of our effort to responsibly develop America\\'s energy resources, and we will continue to incorporate best practices and lessons learned into that process.\" Chu said. \"To meet our energy needs, the administration believes we must rely on a diverse set of energy sources, including renewables like wind and solar, natural gas, clean coal and nuclear power.\" The administration and Nuclear Regulatory Commission on Wednesday said that they believe it is appropriate for U.S. residents within 50 miles of the Fukushima reactors to evacuate. In response to nuclear emergencies, the NRC works with other U.S. agencies to monitor radioactive releases and predict their path. All the available information continues to indicate Hawaii, Alaska, the U.S. Territories and the U.S. West Coast are not expected to experience any harmful levels of radioactivity. UPDATE AS OF 4:30 P.M. EDT, WEDNESDAY, MARCH 16: Japanese authorities have reported concerns today about the condition of the used nuclear fuel pools at Fukushima Daiichi reactor 3 and reactor 4. Officials also are preparing to spray water into reactor 4 from ground positions and possibly later into reactor 3. Some debris on the ground from the March 14 explosion at reactor 3 may need to be removed before the spraying can begin. Most plants store used fuel in steel-lined, concrete vaults filled with water, which acts as a natural barrier for radiation from the used fuel. The water also keeps the fuel cool while the radiation decays-or becomes less radioactive. The water itself does not leave the used fuel pool. Used nuclear fuel at the Fukushima-Daiichi plant is stored in seven pools (one at each reactor and a shared pool) and in a dry container storage facility (containing nine casks.) The used fuel pools are designed so that the water in the pool cannot drain down as a result of damage to the piping or cooling systems. The pools do not have drains in the sides or the floor of the pool structure. The only way to rapidly drain down the pool is to have structural damage of the walls or the floor. For more information on used fuel pools, see our new fact sheet, \"Used Nuclear Fuel Storage at the Fukushima Daiichi Nuclear Power Plant.\" The U.S. government on Wednesday recommended that Americans within 50 miles of the Fukushima Daiichi plant evacuate the area. The Nuclear Regulatory Commission has posted this news release on its website regarding the evacuation recommendation. The information contained in NRC\\'s recent press release is new and industry is still evaluating the radiation dose calculations since there is little context for the numbers provided in the press release. On the surface, the estimated doses look to be extremely conservative, but we have no additional information on which to evaluate them. UPDATE AS OF 10:00 A.M. EDT, WEDNESDAY, MARCH 16: News reports that high radiation levels led to the evacuation of all workers from the Fukushima Daiichi nuclear power station are not accurate (emphasis added). Workers were evacuated for about an hour but returned to the site to continue efforts to restore safe conditions at the plant. Restoration of electrical power to the site was under way at the Daiichi plant as of 6:00 a.m. EDT Wednesday. A temporary cable was being connected between an off-site power line and Daiichi reactor 3. Off-site power has not been available at the site since the earthquake on March 11 Reactors 1, 2 and 3 at the plant are being cooled with seawater. There is some level of uranium fuel damage at all three units, and containment structure damage is suspected at reactor 2 Before the earthquake, reactor 4 had been in refueling and was completely defueled. Attempts to provide cooling water to the used fuel pool at reactor 4 by helicopter were not successful. Preparations are being made to inject water into the fuel storage pool using a high-capacity spray pump. There have been two fires inside the reactor containment building at reactor 4, but they have been extinguished. Although the reactor containment building at Unit 4 was damaged, the primary containment vessel remains intact At the Fukushima Daini site, all four reactors are safely shut down and cooling functions are being maintained.'"
      ]
     },
     "execution_count": 12,
     "metadata": {},
     "output_type": "execute_result"
    }
   ],
   "source": [
    "blogs.iloc[472858][0]"
   ]
  },
  {
   "cell_type": "code",
   "execution_count": 13,
   "metadata": {},
   "outputs": [
    {
     "data": {
      "text/plain": [
       "40833"
      ]
     },
     "execution_count": 13,
     "metadata": {},
     "output_type": "execute_result"
    }
   ],
   "source": [
    "len(blogs.iloc[472858][0])"
   ]
  },
  {
   "cell_type": "code",
   "execution_count": 14,
   "metadata": {},
   "outputs": [
    {
     "data": {
      "text/plain": [
       "847672        1\n",
       "736352        1\n",
       "618625        1\n",
       "918227        1\n",
       "154135        1\n",
       "          ...  \n",
       "434679     6450\n",
       "536027     7160\n",
       "298031     7859\n",
       "511265     8949\n",
       "122404    11384\n",
       "Name: words, Length: 1000105, dtype: int64"
      ]
     },
     "execution_count": 14,
     "metadata": {},
     "output_type": "execute_result"
    }
   ],
   "source": [
    "news[\"words\"].apply(lambda x: len(x)).sort_values()"
   ]
  },
  {
   "cell_type": "code",
   "execution_count": 15,
   "metadata": {},
   "outputs": [
    {
     "data": {
      "text/plain": [
       "230723        2\n",
       "43187         2\n",
       "939048        3\n",
       "2105830       3\n",
       "441974        3\n",
       "           ... \n",
       "1864026    6999\n",
       "2166455    7091\n",
       "1511139    7096\n",
       "641346     7307\n",
       "2085840    9732\n",
       "Name: words, Length: 2342733, dtype: int64"
      ]
     },
     "execution_count": 15,
     "metadata": {},
     "output_type": "execute_result"
    }
   ],
   "source": [
    "twitter[\"words\"].apply(lambda x: len(x)).sort_values()"
   ]
  },
  {
   "cell_type": "markdown",
   "metadata": {},
   "source": [
    "### In the en_US twitter data set, if you divide the number of lines where the word “love” (all lowercase) occurs by the number of lines the word “hate” (all lowercase) occurs, about what do you get?"
   ]
  },
  {
   "cell_type": "code",
   "execution_count": 16,
   "metadata": {},
   "outputs": [],
   "source": [
    "twitter[\"words\"] = twitter[\"words\"].apply(lambda x: x.lower())"
   ]
  },
  {
   "cell_type": "code",
   "execution_count": 17,
   "metadata": {},
   "outputs": [
    {
     "data": {
      "text/html": [
       "<div>\n",
       "<style scoped>\n",
       "    .dataframe tbody tr th:only-of-type {\n",
       "        vertical-align: middle;\n",
       "    }\n",
       "\n",
       "    .dataframe tbody tr th {\n",
       "        vertical-align: top;\n",
       "    }\n",
       "\n",
       "    .dataframe thead th {\n",
       "        text-align: right;\n",
       "    }\n",
       "</style>\n",
       "<table border=\"1\" class=\"dataframe\">\n",
       "  <thead>\n",
       "    <tr style=\"text-align: right;\">\n",
       "      <th></th>\n",
       "      <th>words</th>\n",
       "    </tr>\n",
       "  </thead>\n",
       "  <tbody>\n",
       "    <tr>\n",
       "      <th>0</th>\n",
       "      <td>how are you? btw thanks for the rt. you gonna be in dc anytime soon? love to see you. been way, way too long.</td>\n",
       "    </tr>\n",
       "    <tr>\n",
       "      <th>8</th>\n",
       "      <td>the new sundrop commercial ...hehe love at first sight</td>\n",
       "    </tr>\n",
       "    <tr>\n",
       "      <th>29</th>\n",
       "      <td>i love you, and i'm so proud of you. from sitting on those stairs on the x factor, to now. you boys are my inspiration.♥ :) xx</td>\n",
       "    </tr>\n",
       "    <tr>\n",
       "      <th>32</th>\n",
       "      <td>i love reading your magazine (: it always cheers me up</td>\n",
       "    </tr>\n",
       "    <tr>\n",
       "      <th>45</th>\n",
       "      <td>nice i watched the whole series, loved julia and her mom erica was such a badass</td>\n",
       "    </tr>\n",
       "    <tr>\n",
       "      <th>...</th>\n",
       "      <td>...</td>\n",
       "    </tr>\n",
       "    <tr>\n",
       "      <th>2342637</th>\n",
       "      <td>yes!! rt: ive probably said this before..but i love the share button! makes putting pics on facebook so much easier &lt;3 :)</td>\n",
       "    </tr>\n",
       "    <tr>\n",
       "      <th>2342647</th>\n",
       "      <td>it's not a record just about your first love, but it's about what happens to you in the years following that.</td>\n",
       "    </tr>\n",
       "    <tr>\n",
       "      <th>2342670</th>\n",
       "      <td>it's been far too long since you've said that you love me, maybe you just don't and that is my reality now.</td>\n",
       "    </tr>\n",
       "    <tr>\n",
       "      <th>2342694</th>\n",
       "      <td>oooohhhhhh banana-how everyone loved you today...... until tomorrow...</td>\n",
       "    </tr>\n",
       "    <tr>\n",
       "      <th>2342699</th>\n",
       "      <td>hey , just noticed the link on your blog- thanks!! :) i need to make more time for mine... also, i love vt's covered bridges!</td>\n",
       "    </tr>\n",
       "  </tbody>\n",
       "</table>\n",
       "<p>117361 rows × 1 columns</p>\n",
       "</div>"
      ],
      "text/plain": [
       "                                                                                                                                  words\n",
       "0                         how are you? btw thanks for the rt. you gonna be in dc anytime soon? love to see you. been way, way too long.\n",
       "8                                                                                the new sundrop commercial ...hehe love at first sight\n",
       "29       i love you, and i'm so proud of you. from sitting on those stairs on the x factor, to now. you boys are my inspiration.♥ :) xx\n",
       "32                                                                               i love reading your magazine (: it always cheers me up\n",
       "45                                                     nice i watched the whole series, loved julia and her mom erica was such a badass\n",
       "...                                                                                                                                 ...\n",
       "2342637       yes!! rt: ive probably said this before..but i love the share button! makes putting pics on facebook so much easier <3 :)\n",
       "2342647                   it's not a record just about your first love, but it's about what happens to you in the years following that.\n",
       "2342670                     it's been far too long since you've said that you love me, maybe you just don't and that is my reality now.\n",
       "2342694                                                          oooohhhhhh banana-how everyone loved you today...... until tomorrow...\n",
       "2342699   hey , just noticed the link on your blog- thanks!! :) i need to make more time for mine... also, i love vt's covered bridges!\n",
       "\n",
       "[117361 rows x 1 columns]"
      ]
     },
     "execution_count": 17,
     "metadata": {},
     "output_type": "execute_result"
    }
   ],
   "source": [
    "twitter[twitter[\"words\"].str.contains(\"love\")]"
   ]
  },
  {
   "cell_type": "code",
   "execution_count": 18,
   "metadata": {},
   "outputs": [
    {
     "data": {
      "text/html": [
       "<div>\n",
       "<style scoped>\n",
       "    .dataframe tbody tr th:only-of-type {\n",
       "        vertical-align: middle;\n",
       "    }\n",
       "\n",
       "    .dataframe tbody tr th {\n",
       "        vertical-align: top;\n",
       "    }\n",
       "\n",
       "    .dataframe thead th {\n",
       "        text-align: right;\n",
       "    }\n",
       "</style>\n",
       "<table border=\"1\" class=\"dataframe\">\n",
       "  <thead>\n",
       "    <tr style=\"text-align: right;\">\n",
       "      <th></th>\n",
       "      <th>words</th>\n",
       "    </tr>\n",
       "  </thead>\n",
       "  <tbody>\n",
       "    <tr>\n",
       "      <th>81</th>\n",
       "      <td>do u know whats creepily??? i hate cheesecake. its cake with cheese in front of it!</td>\n",
       "    </tr>\n",
       "    <tr>\n",
       "      <th>113</th>\n",
       "      <td>have a great evening/afternoon/whatever it is where you are, folks!</td>\n",
       "    </tr>\n",
       "    <tr>\n",
       "      <th>146</th>\n",
       "      <td>that's game we lost i can't hate on the heat good game</td>\n",
       "    </tr>\n",
       "    <tr>\n",
       "      <th>162</th>\n",
       "      <td>dallas slapped me on my red as cherries sunburn, and im still crying aftr 10 mins., i hate him.</td>\n",
       "    </tr>\n",
       "    <tr>\n",
       "      <th>237</th>\n",
       "      <td>i hate when i wear bhoops and people are like \" the bigger the hole the bigger the hoe\" and im just like. o___o bitch try me.</td>\n",
       "    </tr>\n",
       "    <tr>\n",
       "      <th>...</th>\n",
       "      <td>...</td>\n",
       "    </tr>\n",
       "    <tr>\n",
       "      <th>2342102</th>\n",
       "      <td>don't hate saber..;) p.s. where the heck have you been?!</td>\n",
       "    </tr>\n",
       "    <tr>\n",
       "      <th>2342381</th>\n",
       "      <td>i hate seeing someone sad :/</td>\n",
       "    </tr>\n",
       "    <tr>\n",
       "      <th>2342568</th>\n",
       "      <td>i hate high school i hate high school i hate high school i hate high school i hate high school i hate high school i hate high school i hate</td>\n",
       "    </tr>\n",
       "    <tr>\n",
       "      <th>2342573</th>\n",
       "      <td>he must hate the troops.</td>\n",
       "    </tr>\n",
       "    <tr>\n",
       "      <th>2342595</th>\n",
       "      <td>#worstsongever : only exception. hate it!</td>\n",
       "    </tr>\n",
       "  </tbody>\n",
       "</table>\n",
       "<p>25191 rows × 1 columns</p>\n",
       "</div>"
      ],
      "text/plain": [
       "                                                                                                                                               words\n",
       "81                                                               do u know whats creepily??? i hate cheesecake. its cake with cheese in front of it!\n",
       "113                                                                              have a great evening/afternoon/whatever it is where you are, folks!\n",
       "146                                                                                           that's game we lost i can't hate on the heat good game\n",
       "162                                                  dallas slapped me on my red as cherries sunburn, and im still crying aftr 10 mins., i hate him.\n",
       "237                    i hate when i wear bhoops and people are like \" the bigger the hole the bigger the hoe\" and im just like. o___o bitch try me.\n",
       "...                                                                                                                                              ...\n",
       "2342102                                                                                     don't hate saber..;) p.s. where the heck have you been?!\n",
       "2342381                                                                                                                 i hate seeing someone sad :/\n",
       "2342568  i hate high school i hate high school i hate high school i hate high school i hate high school i hate high school i hate high school i hate\n",
       "2342573                                                                                                                     he must hate the troops.\n",
       "2342595                                                                                                    #worstsongever : only exception. hate it!\n",
       "\n",
       "[25191 rows x 1 columns]"
      ]
     },
     "execution_count": 18,
     "metadata": {},
     "output_type": "execute_result"
    }
   ],
   "source": [
    "twitter[twitter[\"words\"].str.contains(\"hate\")]"
   ]
  },
  {
   "cell_type": "code",
   "execution_count": 19,
   "metadata": {},
   "outputs": [
    {
     "data": {
      "text/plain": [
       "4.658846413401612"
      ]
     },
     "execution_count": 19,
     "metadata": {},
     "output_type": "execute_result"
    }
   ],
   "source": [
    "117361/25191"
   ]
  },
  {
   "cell_type": "markdown",
   "metadata": {},
   "source": [
    "### The one tweet in the en_US twitter data set that matches the word “biostats” says what?"
   ]
  },
  {
   "cell_type": "code",
   "execution_count": 20,
   "metadata": {},
   "outputs": [
    {
     "data": {
      "text/html": [
       "<div>\n",
       "<style scoped>\n",
       "    .dataframe tbody tr th:only-of-type {\n",
       "        vertical-align: middle;\n",
       "    }\n",
       "\n",
       "    .dataframe tbody tr th {\n",
       "        vertical-align: top;\n",
       "    }\n",
       "\n",
       "    .dataframe thead th {\n",
       "        text-align: right;\n",
       "    }\n",
       "</style>\n",
       "<table border=\"1\" class=\"dataframe\">\n",
       "  <thead>\n",
       "    <tr style=\"text-align: right;\">\n",
       "      <th></th>\n",
       "      <th>words</th>\n",
       "    </tr>\n",
       "  </thead>\n",
       "  <tbody>\n",
       "    <tr>\n",
       "      <th>553245</th>\n",
       "      <td>i know how you feel.. i have biostats on tuesday and i have yet to study =/</td>\n",
       "    </tr>\n",
       "  </tbody>\n",
       "</table>\n",
       "</div>"
      ],
      "text/plain": [
       "                                                                              words\n",
       "553245  i know how you feel.. i have biostats on tuesday and i have yet to study =/"
      ]
     },
     "execution_count": 20,
     "metadata": {},
     "output_type": "execute_result"
    }
   ],
   "source": [
    "twitter[twitter[\"words\"].str.contains(\"biostats\")]"
   ]
  },
  {
   "cell_type": "markdown",
   "metadata": {},
   "source": [
    "### How many tweets have the exact characters “A computer once beat me at chess, but it was no match for me at kickboxing”. (I.e. the line matches those characters exactly.)"
   ]
  },
  {
   "cell_type": "code",
   "execution_count": 21,
   "metadata": {},
   "outputs": [
    {
     "data": {
      "text/html": [
       "<div>\n",
       "<style scoped>\n",
       "    .dataframe tbody tr th:only-of-type {\n",
       "        vertical-align: middle;\n",
       "    }\n",
       "\n",
       "    .dataframe tbody tr th {\n",
       "        vertical-align: top;\n",
       "    }\n",
       "\n",
       "    .dataframe thead th {\n",
       "        text-align: right;\n",
       "    }\n",
       "</style>\n",
       "<table border=\"1\" class=\"dataframe\">\n",
       "  <thead>\n",
       "    <tr style=\"text-align: right;\">\n",
       "      <th></th>\n",
       "      <th>words</th>\n",
       "    </tr>\n",
       "  </thead>\n",
       "  <tbody>\n",
       "    <tr>\n",
       "      <th>515581</th>\n",
       "      <td>a computer once beat me at chess, but it was no match for me at kickboxing</td>\n",
       "    </tr>\n",
       "    <tr>\n",
       "      <th>829696</th>\n",
       "      <td>a computer once beat me at chess, but it was no match for me at kickboxing</td>\n",
       "    </tr>\n",
       "    <tr>\n",
       "      <th>2266561</th>\n",
       "      <td>a computer once beat me at chess, but it was no match for me at kickboxing</td>\n",
       "    </tr>\n",
       "  </tbody>\n",
       "</table>\n",
       "</div>"
      ],
      "text/plain": [
       "                                                                              words\n",
       "515581   a computer once beat me at chess, but it was no match for me at kickboxing\n",
       "829696   a computer once beat me at chess, but it was no match for me at kickboxing\n",
       "2266561  a computer once beat me at chess, but it was no match for me at kickboxing"
      ]
     },
     "execution_count": 21,
     "metadata": {},
     "output_type": "execute_result"
    }
   ],
   "source": [
    "twitter[twitter[\"words\"] == \"a computer once beat me at chess, but it was no match for me at kickboxing\"]"
   ]
  },
  {
   "cell_type": "code",
   "execution_count": null,
   "metadata": {},
   "outputs": [],
   "source": []
  },
  {
   "cell_type": "code",
   "execution_count": null,
   "metadata": {},
   "outputs": [],
   "source": []
  }
 ],
 "metadata": {
  "kernelspec": {
   "display_name": "Python 3",
   "language": "python",
   "name": "python3"
  },
  "language_info": {
   "codemirror_mode": {
    "name": "ipython",
    "version": 3
   },
   "file_extension": ".py",
   "mimetype": "text/x-python",
   "name": "python",
   "nbconvert_exporter": "python",
   "pygments_lexer": "ipython3",
   "version": "3.8.5"
  }
 },
 "nbformat": 4,
 "nbformat_minor": 4
}
